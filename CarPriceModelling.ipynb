{
 "cells": [
  {
   "cell_type": "markdown",
   "id": "40ebf177",
   "metadata": {},
   "source": [
    "# Car Price prediction and Modelling\n",
    "## Objectives\n",
    " 1. Data Preprocessing\n",
    " 2. Modelling\n",
    " 3. Communication\n",
    " 4. ID Mapping\n",
    " 5. The End"
   ]
  },
  {
   "cell_type": "markdown",
   "id": "225a9c5c",
   "metadata": {},
   "source": [
    "# Data Preprocessing"
   ]
  },
  {
   "cell_type": "markdown",
   "id": "5e9c875c",
   "metadata": {},
   "source": [
    "\n",
    "## Introduction"
   ]
  },
  {
   "cell_type": "code",
   "execution_count": 47,
   "id": "65b599be",
   "metadata": {},
   "outputs": [],
   "source": [
    "# Importing libraries\n",
    "import sys\n",
    "import pandas as pd\n",
    "import matplotlib\n",
    "import matplotlib.pyplot as plt\n",
    "import seaborn as sns\n",
    "import numpy as np\n",
    "import sklearn\n",
    "import category_encoders \n",
    "\n",
    "from sklearn.linear_model import Ridge, LinearRegression\n",
    "from sklearn.metrics import mean_absolute_error, r2_score\n",
    "from sklearn.model_selection import train_test_split\n",
    "from sklearn.pipeline import make_pipeline\n",
    "from category_encoders import OneHotEncoder\n",
    "from ipywidgets import Dropdown, FloatSlider, IntSlider, interact\n",
    "%matplotlib inline"
   ]
  },
  {
   "cell_type": "code",
   "execution_count": 48,
   "id": "c8e62a0d",
   "metadata": {},
   "outputs": [
    {
     "name": "stdout",
     "output_type": "stream",
     "text": [
      "Platform:  win32\n",
      "Python versions:  3.13.2 (tags/v3.13.2:4f8bb39, Feb  4 2025, 15:23:48) [MSC v.1942 64 bit (AMD64)]\n",
      "\n",
      "Pandas version:  2.2.3\n",
      "Matplotlib version:  3.10.0\n",
      "Numpy version:  2.2.2\n",
      "Sklearn version:  1.6.1\n",
      "category Encoders version:  2.8.1\n",
      "Seaborn version:  0.13.2\n"
     ]
    }
   ],
   "source": [
    "# library versions\n",
    "print(\"Platform: \", sys.platform)\n",
    "print(\"Python versions: \", sys.version)\n",
    "print()\n",
    "print(\"Pandas version: \" , pd.__version__)\n",
    "print(\"Matplotlib version: \", matplotlib.__version__)\n",
    "print(\"Numpy version: \", np.__version__)\n",
    "print(\"Sklearn version: \", sklearn.__version__)\n",
    "print(\"category Encoders version: \", category_encoders.__version__)\n",
    "print(\"Seaborn version: \", sns.__version__)"
   ]
  },
  {
   "cell_type": "code",
   "execution_count": 49,
   "id": "f39eda7f",
   "metadata": {},
   "outputs": [
    {
     "name": "stdout",
     "output_type": "stream",
     "text": [
      "Platform:  win32\n",
      "Python versions:  3.13.2 (tags/v3.13.2:4f8bb39, Feb  4 2025, 15:23:48) [MSC v.1942 64 bit (AMD64)]\n",
      "\n",
      "Pandas version:  2.2.3\n",
      "Matplotlib version:  3.10.0\n",
      "Numpy version:  2.2.2\n",
      "Sklearn version:  1.6.1\n",
      "category Encoders version:  2.8.1\n",
      "Seaborn version:  0.13.2\n"
     ]
    }
   ],
   "source": [
    "# library versions\n",
    "print(\"Platform: \", sys.platform)\n",
    "print(\"Python versions: \", sys.version)\n",
    "print()\n",
    "print(\"Pandas version: \" , pd.__version__)\n",
    "print(\"Matplotlib version: \", matplotlib.__version__)\n",
    "print(\"Numpy version: \", np.__version__)\n",
    "print(\"Sklearn version: \", sklearn.__version__)\n",
    "print(\"category Encoders version: \", category_encoders.__version__)\n",
    "print(\"Seaborn version: \", sns.__version__)"
   ]
  },
  {
   "cell_type": "markdown",
   "id": "81a922bd",
   "metadata": {},
   "source": [
    "## 1.1 Wrangle function"
   ]
  },
  {
   "cell_type": "code",
   "execution_count": 50,
   "id": "1ae3a26a",
   "metadata": {},
   "outputs": [],
   "source": [
    "def wrangle(csvfile):\n",
    "  '''\n",
    "  Reading csv file into a dataframe\n",
    "\n",
    "  Parameters:\n",
    "    csvfile(str): File path to where our csv file is located\n",
    "  Returns:\n",
    "    df(pd.DataFrame()): cleaned and well structured dataframe\n",
    "  '''\n",
    "  # read the csv file into a dataframe\n",
    "  df = pd.read_csv(csvfile)\n",
    "\n",
    "\n",
    "  # removing outliers\n",
    "  low, high = df[\"price\"].quantile([0, 0.925])\n",
    "  mask_outliers = df[\"price\"].between(low, high)\n",
    "  df = df[mask_outliers]\n",
    "  \n",
    "  # Dropping uncorrelated columns with our feature variable\n",
    "  corr = df.select_dtypes(\"number\").corr()[[\"price\"]]\n",
    "  corr_less = corr[abs(corr) < 0.5].dropna()\n",
    "  df.drop(columns=corr_less.index, inplace=True)\n",
    "\n",
    "  # drop multicollinearity\n",
    "  df.drop(columns=[\n",
    "    \"wheelbase\",\n",
    "    \"citympg\", \n",
    "    \"enginesize\", \n",
    "    \"carlength\", \n",
    "    \"carwidth\",\n",
    "    \"horsepower\"\n",
    "    ], inplace=True)\n",
    "  \n",
    "  # Drop low and high cardinal features\n",
    "  df.drop(columns=[\n",
    "      \"CarName\",\n",
    "      \"fueltype\", \n",
    "      \"aspiration\", \n",
    "      \"doornumber\",\n",
    "     \"enginelocation\"\n",
    "  ], inplace= True)\n",
    "  # return\n",
    "  return df"
   ]
  },
  {
   "cell_type": "code",
   "execution_count": 51,
   "id": "918776a1",
   "metadata": {},
   "outputs": [
    {
     "name": "stdout",
     "output_type": "stream",
     "text": [
      "(151, 8)\n",
      "<class 'pandas.core.frame.DataFrame'>\n",
      "Index: 151 entries, 0 to 163\n",
      "Data columns (total 8 columns):\n",
      " #   Column          Non-Null Count  Dtype  \n",
      "---  ------          --------------  -----  \n",
      " 0   carbody         151 non-null    object \n",
      " 1   drivewheel      151 non-null    object \n",
      " 2   curbweight      151 non-null    int64  \n",
      " 3   enginetype      151 non-null    object \n",
      " 4   cylindernumber  151 non-null    object \n",
      " 5   fuelsystem      151 non-null    object \n",
      " 6   highwaympg      151 non-null    int64  \n",
      " 7   price           151 non-null    float64\n",
      "dtypes: float64(1), int64(2), object(5)\n",
      "memory usage: 10.6+ KB\n",
      "None\n"
     ]
    }
   ],
   "source": [
    "csvfile = r\"C:\\Users\\MY PC\\Desktop\\Projects\\Regression\\Car Price Prediction\\train (1).csv\"\n",
    "df = wrangle(csvfile)\n",
    "print(df.shape)\n",
    "print(df.info())"
   ]
  },
  {
   "cell_type": "code",
   "execution_count": 52,
   "id": "cdc77c5f",
   "metadata": {},
   "outputs": [
    {
     "data": {
      "text/html": [
       "<div>\n",
       "<style scoped>\n",
       "    .dataframe tbody tr th:only-of-type {\n",
       "        vertical-align: middle;\n",
       "    }\n",
       "\n",
       "    .dataframe tbody tr th {\n",
       "        vertical-align: top;\n",
       "    }\n",
       "\n",
       "    .dataframe thead th {\n",
       "        text-align: right;\n",
       "    }\n",
       "</style>\n",
       "<table border=\"1\" class=\"dataframe\">\n",
       "  <thead>\n",
       "    <tr style=\"text-align: right;\">\n",
       "      <th></th>\n",
       "      <th>carbody</th>\n",
       "      <th>drivewheel</th>\n",
       "      <th>curbweight</th>\n",
       "      <th>enginetype</th>\n",
       "      <th>cylindernumber</th>\n",
       "      <th>fuelsystem</th>\n",
       "      <th>highwaympg</th>\n",
       "      <th>price</th>\n",
       "    </tr>\n",
       "  </thead>\n",
       "  <tbody>\n",
       "    <tr>\n",
       "      <th>0</th>\n",
       "      <td>sedan</td>\n",
       "      <td>rwd</td>\n",
       "      <td>2700</td>\n",
       "      <td>ohc</td>\n",
       "      <td>four</td>\n",
       "      <td>idi</td>\n",
       "      <td>39</td>\n",
       "      <td>18344.0</td>\n",
       "    </tr>\n",
       "    <tr>\n",
       "      <th>1</th>\n",
       "      <td>sedan</td>\n",
       "      <td>rwd</td>\n",
       "      <td>3075</td>\n",
       "      <td>l</td>\n",
       "      <td>four</td>\n",
       "      <td>mpfi</td>\n",
       "      <td>24</td>\n",
       "      <td>15580.0</td>\n",
       "    </tr>\n",
       "    <tr>\n",
       "      <th>2</th>\n",
       "      <td>wagon</td>\n",
       "      <td>fwd</td>\n",
       "      <td>2280</td>\n",
       "      <td>ohc</td>\n",
       "      <td>four</td>\n",
       "      <td>2bbl</td>\n",
       "      <td>37</td>\n",
       "      <td>6918.0</td>\n",
       "    </tr>\n",
       "    <tr>\n",
       "      <th>3</th>\n",
       "      <td>sedan</td>\n",
       "      <td>fwd</td>\n",
       "      <td>1971</td>\n",
       "      <td>ohc</td>\n",
       "      <td>four</td>\n",
       "      <td>2bbl</td>\n",
       "      <td>37</td>\n",
       "      <td>7499.0</td>\n",
       "    </tr>\n",
       "    <tr>\n",
       "      <th>4</th>\n",
       "      <td>hatchback</td>\n",
       "      <td>fwd</td>\n",
       "      <td>2289</td>\n",
       "      <td>ohc</td>\n",
       "      <td>four</td>\n",
       "      <td>1bbl</td>\n",
       "      <td>33</td>\n",
       "      <td>9095.0</td>\n",
       "    </tr>\n",
       "  </tbody>\n",
       "</table>\n",
       "</div>"
      ],
      "text/plain": [
       "     carbody drivewheel  curbweight enginetype cylindernumber fuelsystem  \\\n",
       "0      sedan        rwd        2700        ohc           four        idi   \n",
       "1      sedan        rwd        3075          l           four       mpfi   \n",
       "2      wagon        fwd        2280        ohc           four       2bbl   \n",
       "3      sedan        fwd        1971        ohc           four       2bbl   \n",
       "4  hatchback        fwd        2289        ohc           four       1bbl   \n",
       "\n",
       "   highwaympg    price  \n",
       "0          39  18344.0  \n",
       "1          24  15580.0  \n",
       "2          37   6918.0  \n",
       "3          37   7499.0  \n",
       "4          33   9095.0  "
      ]
     },
     "execution_count": 52,
     "metadata": {},
     "output_type": "execute_result"
    }
   ],
   "source": [
    "df.head()"
   ]
  },
  {
   "cell_type": "markdown",
   "id": "3ec29102",
   "metadata": {},
   "source": [
    "## 1.2 Exploratory Data Analysis(EDA)"
   ]
  },
  {
   "cell_type": "markdown",
   "id": "059549d7",
   "metadata": {},
   "source": [
    "### 1.2.1 Distribution"
   ]
  },
  {
   "cell_type": "code",
   "execution_count": 53,
   "id": "ef607943",
   "metadata": {},
   "outputs": [
    {
     "data": {
      "text/html": [
       "<div>\n",
       "<style scoped>\n",
       "    .dataframe tbody tr th:only-of-type {\n",
       "        vertical-align: middle;\n",
       "    }\n",
       "\n",
       "    .dataframe tbody tr th {\n",
       "        vertical-align: top;\n",
       "    }\n",
       "\n",
       "    .dataframe thead th {\n",
       "        text-align: right;\n",
       "    }\n",
       "</style>\n",
       "<table border=\"1\" class=\"dataframe\">\n",
       "  <thead>\n",
       "    <tr style=\"text-align: right;\">\n",
       "      <th></th>\n",
       "      <th>count</th>\n",
       "      <th>mean</th>\n",
       "      <th>std</th>\n",
       "      <th>min</th>\n",
       "      <th>50%</th>\n",
       "      <th>max</th>\n",
       "    </tr>\n",
       "  </thead>\n",
       "  <tbody>\n",
       "    <tr>\n",
       "      <th>curbweight</th>\n",
       "      <td>151.0</td>\n",
       "      <td>2476.993377</td>\n",
       "      <td>430.766255</td>\n",
       "      <td>1819.0</td>\n",
       "      <td>2395.0</td>\n",
       "      <td>3485.0</td>\n",
       "    </tr>\n",
       "    <tr>\n",
       "      <th>highwaympg</th>\n",
       "      <td>151.0</td>\n",
       "      <td>31.350993</td>\n",
       "      <td>6.002442</td>\n",
       "      <td>20.0</td>\n",
       "      <td>31.0</td>\n",
       "      <td>50.0</td>\n",
       "    </tr>\n",
       "    <tr>\n",
       "      <th>price</th>\n",
       "      <td>151.0</td>\n",
       "      <td>11405.102649</td>\n",
       "      <td>4634.819337</td>\n",
       "      <td>5118.0</td>\n",
       "      <td>9980.0</td>\n",
       "      <td>23875.0</td>\n",
       "    </tr>\n",
       "  </tbody>\n",
       "</table>\n",
       "</div>"
      ],
      "text/plain": [
       "            count          mean          std     min     50%      max\n",
       "curbweight  151.0   2476.993377   430.766255  1819.0  2395.0   3485.0\n",
       "highwaympg  151.0     31.350993     6.002442    20.0    31.0     50.0\n",
       "price       151.0  11405.102649  4634.819337  5118.0  9980.0  23875.0"
      ]
     },
     "execution_count": 53,
     "metadata": {},
     "output_type": "execute_result"
    }
   ],
   "source": [
    "df.describe(()).T"
   ]
  },
  {
   "cell_type": "markdown",
   "id": "58452c45",
   "metadata": {},
   "source": [
    "#### 1.2.2 Histogram plot"
   ]
  },
  {
   "cell_type": "code",
   "execution_count": 54,
   "id": "5ccdb464",
   "metadata": {},
   "outputs": [
    {
     "data": {
      "image/png": "[encoded data removed]",
      "text/plain": [
       "<Figure size 640x480 with 1 Axes>"
      ]
     },
     "metadata": {},
     "output_type": "display_data"
    }
   ],
   "source": [
    "plt.hist(df[\"price\"])\n",
    "plt.title(\"Price[feature] Distribution\")\n",
    "plt.xlabel(\"Price\")\n",
    "plt.ylabel(\"Frequecny[counts]\")\n",
    "plt.show();"
   ]
  },
  {
   "cell_type": "markdown",
   "id": "9d7a4192",
   "metadata": {},
   "source": [
    "- The above distribution follows a poison distribution"
   ]
  },
  {
   "cell_type": "markdown",
   "id": "6cae0dd0",
   "metadata": {},
   "source": [
    "#### Bar graph"
   ]
  },
  {
   "cell_type": "markdown",
   "id": "a4e7b1f3",
   "metadata": {},
   "source": [
    "- With a symboling of 3, a turbo cost less than a standard aspiration before removing outliers\n",
    "- After removing outliers turbo cost become averange expensive"
   ]
  },
  {
   "cell_type": "markdown",
   "id": "09c0ed83",
   "metadata": {},
   "source": [
    " - Yes, The price of a fwd and 4wd is affected by their aspiration."
   ]
  },
  {
   "cell_type": "markdown",
   "id": "d566abdb",
   "metadata": {},
   "source": [
    "### 1.2.2 Missing values"
   ]
  },
  {
   "cell_type": "code",
   "execution_count": 55,
   "id": "d38e1906",
   "metadata": {},
   "outputs": [
    {
     "data": {
      "text/plain": [
       "carbody           0\n",
       "drivewheel        0\n",
       "curbweight        0\n",
       "enginetype        0\n",
       "cylindernumber    0\n",
       "fuelsystem        0\n",
       "highwaympg        0\n",
       "price             0\n",
       "dtype: int64"
      ]
     },
     "execution_count": 55,
     "metadata": {},
     "output_type": "execute_result"
    }
   ],
   "source": [
    "df.isnull().sum()"
   ]
  },
  {
   "cell_type": "markdown",
   "id": "eba1a393",
   "metadata": {},
   "source": [
    "- No null values is present in our dataset"
   ]
  },
  {
   "cell_type": "markdown",
   "id": "eab50d36",
   "metadata": {},
   "source": [
    "### 1.2.3 Outliers"
   ]
  },
  {
   "cell_type": "markdown",
   "id": "07a329e5",
   "metadata": {},
   "source": [
    "### 1.2.4 Boxplot"
   ]
  },
  {
   "cell_type": "code",
   "execution_count": 56,
   "id": "06d3b6e6",
   "metadata": {},
   "outputs": [
    {
     "data": {
      "image/png": "[encoded data removed]",
      "text/plain": [
       "<Figure size 640x480 with 1 Axes>"
      ]
     },
     "metadata": {},
     "output_type": "display_data"
    }
   ],
   "source": [
    "sns.boxplot(data=df, y=\"price\")\n",
    "plt.title(\"Price (feature) boxplot\");"
   ]
  },
  {
   "cell_type": "markdown",
   "id": "a60a8cf3",
   "metadata": {},
   "source": [
    "### 1.2.5 Visuals"
   ]
  },
  {
   "cell_type": "markdown",
   "id": "a90c810e",
   "metadata": {},
   "source": [
    "### 1.3 Correlation"
   ]
  },
  {
   "cell_type": "code",
   "execution_count": 57,
   "id": "c8f168e3",
   "metadata": {},
   "outputs": [
    {
     "data": {
      "image/png": "[encoded data removed]",
      "text/plain": [
       "<Figure size 640x480 with 2 Axes>"
      ]
     },
     "metadata": {},
     "output_type": "display_data"
    }
   ],
   "source": [
    "corr = df.select_dtypes(\"number\").corr()[[\"price\"]]\n",
    "sns.heatmap(corr.sort_values(by=\"price\", ascending=False), annot=True, cmap=\"coolwarm\")\n",
    "plt.title(\"Price Correlation heatmap\");"
   ]
  },
  {
   "cell_type": "code",
   "execution_count": 58,
   "id": "6fe25bcc",
   "metadata": {},
   "outputs": [
    {
     "data": {
      "image/png": "[encoded data removed]",
      "text/plain": [
       "<Figure size 640x480 with 2 Axes>"
      ]
     },
     "metadata": {},
     "output_type": "display_data"
    }
   ],
   "source": [
    "# Multicollinearity within features\n",
    "corr_mult = df.select_dtypes(\"number\").drop(columns=\"price\").corr()\n",
    "sns.heatmap(corr_mult, annot=True)\n",
    "plt.title(\"Multicollinearity heat map\");"
   ]
  },
  {
   "cell_type": "code",
   "execution_count": 59,
   "id": "6a299129",
   "metadata": {},
   "outputs": [
    {
     "data": {
      "text/plain": [
       "carbody           5\n",
       "drivewheel        3\n",
       "enginetype        6\n",
       "cylindernumber    4\n",
       "fuelsystem        8\n",
       "dtype: int64"
      ]
     },
     "execution_count": 59,
     "metadata": {},
     "output_type": "execute_result"
    }
   ],
   "source": [
    "# Dropping low and high cardinal features\n",
    "df.select_dtypes(\"object\").nunique()"
   ]
  },
  {
   "cell_type": "markdown",
   "id": "96189f63",
   "metadata": {},
   "source": [
    "## 1.3 Splitting"
   ]
  },
  {
   "cell_type": "code",
   "execution_count": 60,
   "id": "edaa47d7",
   "metadata": {},
   "outputs": [
    {
     "name": "stdout",
     "output_type": "stream",
     "text": [
      "Target vector shape: (151,)\n",
      "Target vector type <class 'pandas.core.series.Series'>\n",
      "0    18344.0\n",
      "1    15580.0\n",
      "Name: price, dtype: float64\n"
     ]
    }
   ],
   "source": [
    "feature = \"price\"\n",
    "y = df[feature]\n",
    "print(f\"Target vector shape: {y.shape}\")\n",
    "print(f\"Target vector type {type(y)}\")\n",
    "print(y.head(2))"
   ]
  },
  {
   "cell_type": "code",
   "execution_count": 61,
   "id": "11041bab",
   "metadata": {},
   "outputs": [
    {
     "name": "stdout",
     "output_type": "stream",
     "text": [
      "Feature matrix shape (151, 7)\n",
      "Feature matrix type <class 'pandas.core.frame.DataFrame'>\n",
      "  carbody drivewheel  curbweight enginetype cylindernumber fuelsystem  \\\n",
      "0   sedan        rwd        2700        ohc           four        idi   \n",
      "1   sedan        rwd        3075          l           four       mpfi   \n",
      "\n",
      "   highwaympg  \n",
      "0          39  \n",
      "1          24  \n"
     ]
    }
   ],
   "source": [
    "X = df.drop(columns=\"price\")\n",
    "print(f\"Feature matrix shape {X.shape}\")\n",
    "print(f\"Feature matrix type {type(X)}\")\n",
    "print(X.head(2))"
   ]
  },
  {
   "cell_type": "code",
   "execution_count": 62,
   "id": "5127e8aa",
   "metadata": {},
   "outputs": [
    {
     "name": "stdout",
     "output_type": "stream",
     "text": [
      "Feature training shape: (120, 7)\n",
      "Target training shape: (120,)\n",
      "Feature test shape: (31, 7)\n",
      "Target test shape: (31,)\n",
      "\n",
      "Training set is 79.0% of full data.\n",
      "Test set is 21.0% of full data.\n"
     ]
    }
   ],
   "source": [
    "# train and test split\n",
    "X_train, X_test, y_train, y_test = train_test_split(X, y, test_size=0.2, random_state=42)\n",
    "\n",
    "print(f\"Feature training shape: {X_train.shape}\")\n",
    "print(f\"Target training shape: {y_train.shape}\")\n",
    "print(f\"Feature test shape: {X_test.shape}\")\n",
    "print(f\"Target test shape: {y_test.shape}\")\n",
    "print()\n",
    "print(f\"Training set is {100 * np.round(len(X_train)/len(df), 2)}% of full data.\")\n",
    "print(f\"Test set is {100 * np.round(len(X_test)/len(df), 2)}% of full data.\")"
   ]
  },
  {
   "cell_type": "markdown",
   "id": "48d4a5a2",
   "metadata": {},
   "source": [
    "# 3. Modelling"
   ]
  },
  {
   "cell_type": "code",
   "execution_count": 63,
   "id": "bac0c6ef",
   "metadata": {},
   "outputs": [
    {
     "data": {
      "text/html": [
       "<style>#sk-container-id-3 {\n",
       "  /* Definition of color scheme common for light and dark mode */\n",
       "  --sklearn-color-text: #000;\n",
       "  --sklearn-color-text-muted: #666;\n",
       "  --sklearn-color-line: gray;\n",
       "  /* Definition of color scheme for unfitted estimators */\n",
       "  --sklearn-color-unfitted-level-0: #fff5e6;\n",
       "  --sklearn-color-unfitted-level-1: #f6e4d2;\n",
       "  --sklearn-color-unfitted-level-2: #ffe0b3;\n",
       "  --sklearn-color-unfitted-level-3: chocolate;\n",
       "  /* Definition of color scheme for fitted estimators */\n",
       "  --sklearn-color-fitted-level-0: #f0f8ff;\n",
       "  --sklearn-color-fitted-level-1: #d4ebff;\n",
       "  --sklearn-color-fitted-level-2: #b3dbfd;\n",
       "  --sklearn-color-fitted-level-3: cornflowerblue;\n",
       "\n",
       "  /* Specific color for light theme */\n",
       "  --sklearn-color-text-on-default-background: var(--sg-text-color, var(--theme-code-foreground, var(--jp-content-font-color1, black)));\n",
       "  --sklearn-color-background: var(--sg-background-color, var(--theme-background, var(--jp-layout-color0, white)));\n",
       "  --sklearn-color-border-box: var(--sg-text-color, var(--theme-code-foreground, var(--jp-content-font-color1, black)));\n",
       "  --sklearn-color-icon: #696969;\n",
       "\n",
       "  @media (prefers-color-scheme: dark) {\n",
       "    /* Redefinition of color scheme for dark theme */\n",
       "    --sklearn-color-text-on-default-background: var(--sg-text-color, var(--theme-code-foreground, var(--jp-content-font-color1, white)));\n",
       "    --sklearn-color-background: var(--sg-background-color, var(--theme-background, var(--jp-layout-color0, #111)));\n",
       "    --sklearn-color-border-box: var(--sg-text-color, var(--theme-code-foreground, var(--jp-content-font-color1, white)));\n",
       "    --sklearn-color-icon: #878787;\n",
       "  }\n",
       "}\n",
       "\n",
       "#sk-container-id-3 {\n",
       "  color: var(--sklearn-color-text);\n",
       "}\n",
       "\n",
       "#sk-container-id-3 pre {\n",
       "  padding: 0;\n",
       "}\n",
       "\n",
       "#sk-container-id-3 input.sk-hidden--visually {\n",
       "  border: 0;\n",
       "  clip: rect(1px 1px 1px 1px);\n",
       "  clip: rect(1px, 1px, 1px, 1px);\n",
       "  height: 1px;\n",
       "  margin: -1px;\n",
       "  overflow: hidden;\n",
       "  padding: 0;\n",
       "  position: absolute;\n",
       "  width: 1px;\n",
       "}\n",
       "\n",
       "#sk-container-id-3 div.sk-dashed-wrapped {\n",
       "  border: 1px dashed var(--sklearn-color-line);\n",
       "  margin: 0 0.4em 0.5em 0.4em;\n",
       "  box-sizing: border-box;\n",
       "  padding-bottom: 0.4em;\n",
       "  background-color: var(--sklearn-color-background);\n",
       "}\n",
       "\n",
       "#sk-container-id-3 div.sk-container {\n",
       "  /* jupyter's `normalize.less` sets `[hidden] { display: none; }`\n",
       "     but bootstrap.min.css set `[hidden] { display: none !important; }`\n",
       "     so we also need the `!important` here to be able to override the\n",
       "     default hidden behavior on the sphinx rendered scikit-learn.org.\n",
       "     See: https://github.com/scikit-learn/scikit-learn/issues/21755 */\n",
       "  display: inline-block !important;\n",
       "  position: relative;\n",
       "}\n",
       "\n",
       "#sk-container-id-3 div.sk-text-repr-fallback {\n",
       "  display: none;\n",
       "}\n",
       "\n",
       "div.sk-parallel-item,\n",
       "div.sk-serial,\n",
       "div.sk-item {\n",
       "  /* draw centered vertical line to link estimators */\n",
       "  background-image: linear-gradient(var(--sklearn-color-text-on-default-background), var(--sklearn-color-text-on-default-background));\n",
       "  background-size: 2px 100%;\n",
       "  background-repeat: no-repeat;\n",
       "  background-position: center center;\n",
       "}\n",
       "\n",
       "/* Parallel-specific style estimator block */\n",
       "\n",
       "#sk-container-id-3 div.sk-parallel-item::after {\n",
       "  content: \"\";\n",
       "  width: 100%;\n",
       "  border-bottom: 2px solid var(--sklearn-color-text-on-default-background);\n",
       "  flex-grow: 1;\n",
       "}\n",
       "\n",
       "#sk-container-id-3 div.sk-parallel {\n",
       "  display: flex;\n",
       "  align-items: stretch;\n",
       "  justify-content: center;\n",
       "  background-color: var(--sklearn-color-background);\n",
       "  position: relative;\n",
       "}\n",
       "\n",
       "#sk-container-id-3 div.sk-parallel-item {\n",
       "  display: flex;\n",
       "  flex-direction: column;\n",
       "}\n",
       "\n",
       "#sk-container-id-3 div.sk-parallel-item:first-child::after {\n",
       "  align-self: flex-end;\n",
       "  width: 50%;\n",
       "}\n",
       "\n",
       "#sk-container-id-3 div.sk-parallel-item:last-child::after {\n",
       "  align-self: flex-start;\n",
       "  width: 50%;\n",
       "}\n",
       "\n",
       "#sk-container-id-3 div.sk-parallel-item:only-child::after {\n",
       "  width: 0;\n",
       "}\n",
       "\n",
       "/* Serial-specific style estimator block */\n",
       "\n",
       "#sk-container-id-3 div.sk-serial {\n",
       "  display: flex;\n",
       "  flex-direction: column;\n",
       "  align-items: center;\n",
       "  background-color: var(--sklearn-color-background);\n",
       "  padding-right: 1em;\n",
       "  padding-left: 1em;\n",
       "}\n",
       "\n",
       "\n",
       "/* Toggleable style: style used for estimator/Pipeline/ColumnTransformer box that is\n",
       "clickable and can be expanded/collapsed.\n",
       "- Pipeline and ColumnTransformer use this feature and define the default style\n",
       "- Estimators will overwrite some part of the style using the `sk-estimator` class\n",
       "*/\n",
       "\n",
       "/* Pipeline and ColumnTransformer style (default) */\n",
       "\n",
       "#sk-container-id-3 div.sk-toggleable {\n",
       "  /* Default theme specific background. It is overwritten whether we have a\n",
       "  specific estimator or a Pipeline/ColumnTransformer */\n",
       "  background-color: var(--sklearn-color-background);\n",
       "}\n",
       "\n",
       "/* Toggleable label */\n",
       "#sk-container-id-3 label.sk-toggleable__label {\n",
       "  cursor: pointer;\n",
       "  display: flex;\n",
       "  width: 100%;\n",
       "  margin-bottom: 0;\n",
       "  padding: 0.5em;\n",
       "  box-sizing: border-box;\n",
       "  text-align: center;\n",
       "  align-items: start;\n",
       "  justify-content: space-between;\n",
       "  gap: 0.5em;\n",
       "}\n",
       "\n",
       "#sk-container-id-3 label.sk-toggleable__label .caption {\n",
       "  font-size: 0.6rem;\n",
       "  font-weight: lighter;\n",
       "  color: var(--sklearn-color-text-muted);\n",
       "}\n",
       "\n",
       "#sk-container-id-3 label.sk-toggleable__label-arrow:before {\n",
       "  /* Arrow on the left of the label */\n",
       "  content: \"▸\";\n",
       "  float: left;\n",
       "  margin-right: 0.25em;\n",
       "  color: var(--sklearn-color-icon);\n",
       "}\n",
       "\n",
       "#sk-container-id-3 label.sk-toggleable__label-arrow:hover:before {\n",
       "  color: var(--sklearn-color-text);\n",
       "}\n",
       "\n",
       "/* Toggleable content - dropdown */\n",
       "\n",
       "#sk-container-id-3 div.sk-toggleable__content {\n",
       "  max-height: 0;\n",
       "  max-width: 0;\n",
       "  overflow: hidden;\n",
       "  text-align: left;\n",
       "  /* unfitted */\n",
       "  background-color: var(--sklearn-color-unfitted-level-0);\n",
       "}\n",
       "\n",
       "#sk-container-id-3 div.sk-toggleable__content.fitted {\n",
       "  /* fitted */\n",
       "  background-color: var(--sklearn-color-fitted-level-0);\n",
       "}\n",
       "\n",
       "#sk-container-id-3 div.sk-toggleable__content pre {\n",
       "  margin: 0.2em;\n",
       "  border-radius: 0.25em;\n",
       "  color: var(--sklearn-color-text);\n",
       "  /* unfitted */\n",
       "  background-color: var(--sklearn-color-unfitted-level-0);\n",
       "}\n",
       "\n",
       "#sk-container-id-3 div.sk-toggleable__content.fitted pre {\n",
       "  /* unfitted */\n",
       "  background-color: var(--sklearn-color-fitted-level-0);\n",
       "}\n",
       "\n",
       "#sk-container-id-3 input.sk-toggleable__control:checked~div.sk-toggleable__content {\n",
       "  /* Expand drop-down */\n",
       "  max-height: 200px;\n",
       "  max-width: 100%;\n",
       "  overflow: auto;\n",
       "}\n",
       "\n",
       "#sk-container-id-3 input.sk-toggleable__control:checked~label.sk-toggleable__label-arrow:before {\n",
       "  content: \"▾\";\n",
       "}\n",
       "\n",
       "/* Pipeline/ColumnTransformer-specific style */\n",
       "\n",
       "#sk-container-id-3 div.sk-label input.sk-toggleable__control:checked~label.sk-toggleable__label {\n",
       "  color: var(--sklearn-color-text);\n",
       "  background-color: var(--sklearn-color-unfitted-level-2);\n",
       "}\n",
       "\n",
       "#sk-container-id-3 div.sk-label.fitted input.sk-toggleable__control:checked~label.sk-toggleable__label {\n",
       "  background-color: var(--sklearn-color-fitted-level-2);\n",
       "}\n",
       "\n",
       "/* Estimator-specific style */\n",
       "\n",
       "/* Colorize estimator box */\n",
       "#sk-container-id-3 div.sk-estimator input.sk-toggleable__control:checked~label.sk-toggleable__label {\n",
       "  /* unfitted */\n",
       "  background-color: var(--sklearn-color-unfitted-level-2);\n",
       "}\n",
       "\n",
       "#sk-container-id-3 div.sk-estimator.fitted input.sk-toggleable__control:checked~label.sk-toggleable__label {\n",
       "  /* fitted */\n",
       "  background-color: var(--sklearn-color-fitted-level-2);\n",
       "}\n",
       "\n",
       "#sk-container-id-3 div.sk-label label.sk-toggleable__label,\n",
       "#sk-container-id-3 div.sk-label label {\n",
       "  /* The background is the default theme color */\n",
       "  color: var(--sklearn-color-text-on-default-background);\n",
       "}\n",
       "\n",
       "/* On hover, darken the color of the background */\n",
       "#sk-container-id-3 div.sk-label:hover label.sk-toggleable__label {\n",
       "  color: var(--sklearn-color-text);\n",
       "  background-color: var(--sklearn-color-unfitted-level-2);\n",
       "}\n",
       "\n",
       "/* Label box, darken color on hover, fitted */\n",
       "#sk-container-id-3 div.sk-label.fitted:hover label.sk-toggleable__label.fitted {\n",
       "  color: var(--sklearn-color-text);\n",
       "  background-color: var(--sklearn-color-fitted-level-2);\n",
       "}\n",
       "\n",
       "/* Estimator label */\n",
       "\n",
       "#sk-container-id-3 div.sk-label label {\n",
       "  font-family: monospace;\n",
       "  font-weight: bold;\n",
       "  display: inline-block;\n",
       "  line-height: 1.2em;\n",
       "}\n",
       "\n",
       "#sk-container-id-3 div.sk-label-container {\n",
       "  text-align: center;\n",
       "}\n",
       "\n",
       "/* Estimator-specific */\n",
       "#sk-container-id-3 div.sk-estimator {\n",
       "  font-family: monospace;\n",
       "  border: 1px dotted var(--sklearn-color-border-box);\n",
       "  border-radius: 0.25em;\n",
       "  box-sizing: border-box;\n",
       "  margin-bottom: 0.5em;\n",
       "  /* unfitted */\n",
       "  background-color: var(--sklearn-color-unfitted-level-0);\n",
       "}\n",
       "\n",
       "#sk-container-id-3 div.sk-estimator.fitted {\n",
       "  /* fitted */\n",
       "  background-color: var(--sklearn-color-fitted-level-0);\n",
       "}\n",
       "\n",
       "/* on hover */\n",
       "#sk-container-id-3 div.sk-estimator:hover {\n",
       "  /* unfitted */\n",
       "  background-color: var(--sklearn-color-unfitted-level-2);\n",
       "}\n",
       "\n",
       "#sk-container-id-3 div.sk-estimator.fitted:hover {\n",
       "  /* fitted */\n",
       "  background-color: var(--sklearn-color-fitted-level-2);\n",
       "}\n",
       "\n",
       "/* Specification for estimator info (e.g. \"i\" and \"?\") */\n",
       "\n",
       "/* Common style for \"i\" and \"?\" */\n",
       "\n",
       ".sk-estimator-doc-link,\n",
       "a:link.sk-estimator-doc-link,\n",
       "a:visited.sk-estimator-doc-link {\n",
       "  float: right;\n",
       "  font-size: smaller;\n",
       "  line-height: 1em;\n",
       "  font-family: monospace;\n",
       "  background-color: var(--sklearn-color-background);\n",
       "  border-radius: 1em;\n",
       "  height: 1em;\n",
       "  width: 1em;\n",
       "  text-decoration: none !important;\n",
       "  margin-left: 0.5em;\n",
       "  text-align: center;\n",
       "  /* unfitted */\n",
       "  border: var(--sklearn-color-unfitted-level-1) 1pt solid;\n",
       "  color: var(--sklearn-color-unfitted-level-1);\n",
       "}\n",
       "\n",
       ".sk-estimator-doc-link.fitted,\n",
       "a:link.sk-estimator-doc-link.fitted,\n",
       "a:visited.sk-estimator-doc-link.fitted {\n",
       "  /* fitted */\n",
       "  border: var(--sklearn-color-fitted-level-1) 1pt solid;\n",
       "  color: var(--sklearn-color-fitted-level-1);\n",
       "}\n",
       "\n",
       "/* On hover */\n",
       "div.sk-estimator:hover .sk-estimator-doc-link:hover,\n",
       ".sk-estimator-doc-link:hover,\n",
       "div.sk-label-container:hover .sk-estimator-doc-link:hover,\n",
       ".sk-estimator-doc-link:hover {\n",
       "  /* unfitted */\n",
       "  background-color: var(--sklearn-color-unfitted-level-3);\n",
       "  color: var(--sklearn-color-background);\n",
       "  text-decoration: none;\n",
       "}\n",
       "\n",
       "div.sk-estimator.fitted:hover .sk-estimator-doc-link.fitted:hover,\n",
       ".sk-estimator-doc-link.fitted:hover,\n",
       "div.sk-label-container:hover .sk-estimator-doc-link.fitted:hover,\n",
       ".sk-estimator-doc-link.fitted:hover {\n",
       "  /* fitted */\n",
       "  background-color: var(--sklearn-color-fitted-level-3);\n",
       "  color: var(--sklearn-color-background);\n",
       "  text-decoration: none;\n",
       "}\n",
       "\n",
       "/* Span, style for the box shown on hovering the info icon */\n",
       ".sk-estimator-doc-link span {\n",
       "  display: none;\n",
       "  z-index: 9999;\n",
       "  position: relative;\n",
       "  font-weight: normal;\n",
       "  right: .2ex;\n",
       "  padding: .5ex;\n",
       "  margin: .5ex;\n",
       "  width: min-content;\n",
       "  min-width: 20ex;\n",
       "  max-width: 50ex;\n",
       "  color: var(--sklearn-color-text);\n",
       "  box-shadow: 2pt 2pt 4pt #999;\n",
       "  /* unfitted */\n",
       "  background: var(--sklearn-color-unfitted-level-0);\n",
       "  border: .5pt solid var(--sklearn-color-unfitted-level-3);\n",
       "}\n",
       "\n",
       ".sk-estimator-doc-link.fitted span {\n",
       "  /* fitted */\n",
       "  background: var(--sklearn-color-fitted-level-0);\n",
       "  border: var(--sklearn-color-fitted-level-3);\n",
       "}\n",
       "\n",
       ".sk-estimator-doc-link:hover span {\n",
       "  display: block;\n",
       "}\n",
       "\n",
       "/* \"?\"-specific style due to the `<a>` HTML tag */\n",
       "\n",
       "#sk-container-id-3 a.estimator_doc_link {\n",
       "  float: right;\n",
       "  font-size: 1rem;\n",
       "  line-height: 1em;\n",
       "  font-family: monospace;\n",
       "  background-color: var(--sklearn-color-background);\n",
       "  border-radius: 1rem;\n",
       "  height: 1rem;\n",
       "  width: 1rem;\n",
       "  text-decoration: none;\n",
       "  /* unfitted */\n",
       "  color: var(--sklearn-color-unfitted-level-1);\n",
       "  border: var(--sklearn-color-unfitted-level-1) 1pt solid;\n",
       "}\n",
       "\n",
       "#sk-container-id-3 a.estimator_doc_link.fitted {\n",
       "  /* fitted */\n",
       "  border: var(--sklearn-color-fitted-level-1) 1pt solid;\n",
       "  color: var(--sklearn-color-fitted-level-1);\n",
       "}\n",
       "\n",
       "/* On hover */\n",
       "#sk-container-id-3 a.estimator_doc_link:hover {\n",
       "  /* unfitted */\n",
       "  background-color: var(--sklearn-color-unfitted-level-3);\n",
       "  color: var(--sklearn-color-background);\n",
       "  text-decoration: none;\n",
       "}\n",
       "\n",
       "#sk-container-id-3 a.estimator_doc_link.fitted:hover {\n",
       "  /* fitted */\n",
       "  background-color: var(--sklearn-color-fitted-level-3);\n",
       "}\n",
       "</style><div id=\"sk-container-id-3\" class=\"sk-top-container\"><div class=\"sk-text-repr-fallback\"><pre>Pipeline(steps=[(&#x27;onehotencoder&#x27;,\n",
       "                 OneHotEncoder(cols=[&#x27;carbody&#x27;, &#x27;drivewheel&#x27;, &#x27;enginetype&#x27;,\n",
       "                                     &#x27;cylindernumber&#x27;, &#x27;fuelsystem&#x27;],\n",
       "                               use_cat_names=True)),\n",
       "                (&#x27;ridge&#x27;, Ridge())])</pre><b>In a Jupyter environment, please rerun this cell to show the HTML representation or trust the notebook. <br />On GitHub, the HTML representation is unable to render, please try loading this page with nbviewer.org.</b></div><div class=\"sk-container\" hidden><div class=\"sk-item sk-dashed-wrapped\"><div class=\"sk-label-container\"><div class=\"sk-label fitted sk-toggleable\"><input class=\"sk-toggleable__control sk-hidden--visually\" id=\"sk-estimator-id-7\" type=\"checkbox\" ><label for=\"sk-estimator-id-7\" class=\"sk-toggleable__label fitted sk-toggleable__label-arrow\"><div><div>Pipeline</div></div><div><a class=\"sk-estimator-doc-link fitted\" rel=\"noreferrer\" target=\"_blank\" href=\"https://scikit-learn.org/1.6/modules/generated/sklearn.pipeline.Pipeline.html\">?<span>Documentation for Pipeline</span></a><span class=\"sk-estimator-doc-link fitted\">i<span>Fitted</span></span></div></label><div class=\"sk-toggleable__content fitted\"><pre>Pipeline(steps=[(&#x27;onehotencoder&#x27;,\n",
       "                 OneHotEncoder(cols=[&#x27;carbody&#x27;, &#x27;drivewheel&#x27;, &#x27;enginetype&#x27;,\n",
       "                                     &#x27;cylindernumber&#x27;, &#x27;fuelsystem&#x27;],\n",
       "                               use_cat_names=True)),\n",
       "                (&#x27;ridge&#x27;, Ridge())])</pre></div> </div></div><div class=\"sk-serial\"><div class=\"sk-item\"><div class=\"sk-estimator fitted sk-toggleable\"><input class=\"sk-toggleable__control sk-hidden--visually\" id=\"sk-estimator-id-8\" type=\"checkbox\" ><label for=\"sk-estimator-id-8\" class=\"sk-toggleable__label fitted sk-toggleable__label-arrow\"><div><div>OneHotEncoder</div></div></label><div class=\"sk-toggleable__content fitted\"><pre>OneHotEncoder(cols=[&#x27;carbody&#x27;, &#x27;drivewheel&#x27;, &#x27;enginetype&#x27;, &#x27;cylindernumber&#x27;,\n",
       "                    &#x27;fuelsystem&#x27;],\n",
       "              use_cat_names=True)</pre></div> </div></div><div class=\"sk-item\"><div class=\"sk-estimator fitted sk-toggleable\"><input class=\"sk-toggleable__control sk-hidden--visually\" id=\"sk-estimator-id-9\" type=\"checkbox\" ><label for=\"sk-estimator-id-9\" class=\"sk-toggleable__label fitted sk-toggleable__label-arrow\"><div><div>Ridge</div></div><div><a class=\"sk-estimator-doc-link fitted\" rel=\"noreferrer\" target=\"_blank\" href=\"https://scikit-learn.org/1.6/modules/generated/sklearn.linear_model.Ridge.html\">?<span>Documentation for Ridge</span></a></div></label><div class=\"sk-toggleable__content fitted\"><pre>Ridge()</pre></div> </div></div></div></div></div></div>"
      ],
      "text/plain": [
       "Pipeline(steps=[('onehotencoder',\n",
       "                 OneHotEncoder(cols=['carbody', 'drivewheel', 'enginetype',\n",
       "                                     'cylindernumber', 'fuelsystem'],\n",
       "                               use_cat_names=True)),\n",
       "                ('ridge', Ridge())])"
      ]
     },
     "execution_count": 63,
     "metadata": {},
     "output_type": "execute_result"
    }
   ],
   "source": [
    "model = make_pipeline(\n",
    "  OneHotEncoder(use_cat_names=True),\n",
    "  Ridge()\n",
    ")\n",
    "model.fit(X_train, y_train)"
   ]
  },
  {
   "cell_type": "code",
   "execution_count": 64,
   "id": "2741146d",
   "metadata": {},
   "outputs": [
    {
     "data": {
      "text/plain": [
       "array([10520.56032491, 15039.63190948,  7589.36713967,  5379.13256304,\n",
       "        5411.89842277])"
      ]
     },
     "execution_count": 64,
     "metadata": {},
     "output_type": "execute_result"
    }
   ],
   "source": [
    "pred = model.predict(X_train)\n",
    "pred[:5]"
   ]
  },
  {
   "cell_type": "code",
   "execution_count": 65,
   "id": "8d032e6d",
   "metadata": {},
   "outputs": [
    {
     "name": "stdout",
     "output_type": "stream",
     "text": [
      "Type of MAE: <class 'float'>\n",
      "Mean Abdolute Error: 1133.16\n"
     ]
    }
   ],
   "source": [
    "# Model evaluation\n",
    "mae = mean_absolute_error(y_train, pred)\n",
    "print(f\"Type of MAE: {type(mae)}\")\n",
    "print(f\"Mean Abdolute Error: {np.round(mae, 2)}\")"
   ]
  },
  {
   "cell_type": "code",
   "execution_count": 66,
   "id": "265af4d3",
   "metadata": {},
   "outputs": [
    {
     "name": "stdout",
     "output_type": "stream",
     "text": [
      "Type of score is: <class 'float'>\n",
      "Model score is: 89.0%\n"
     ]
    }
   ],
   "source": [
    "# model scoring\n",
    "score = r2_score(y_train, pred)\n",
    "print(f\"Type of score is: {type(score)}\")\n",
    "print(f\"Model score is: {100 * np.round(score,2)}%\")"
   ]
  },
  {
   "cell_type": "code",
   "execution_count": 67,
   "id": "34b5101c",
   "metadata": {},
   "outputs": [
    {
     "data": {
      "text/plain": [
       "array([19399.85334396,  9104.6467842 , 16019.70222182, 10484.64901185,\n",
       "        6750.35638112])"
      ]
     },
     "execution_count": 67,
     "metadata": {},
     "output_type": "execute_result"
    }
   ],
   "source": [
    "# mae and score with unseen data\n",
    "test_pred = model.predict(X_test)\n",
    "test_pred[:5]"
   ]
  },
  {
   "cell_type": "code",
   "execution_count": 68,
   "id": "190a3a84",
   "metadata": {},
   "outputs": [
    {
     "name": "stdout",
     "output_type": "stream",
     "text": [
      "Type of test mae: <class 'float'>\n",
      "MAE for test data: 1916.48\n"
     ]
    }
   ],
   "source": [
    "test_mae = mean_absolute_error(y_test, test_pred)\n",
    "print(f\"Type of test mae: {type(test_mae)}\")\n",
    "print(f\"MAE for test data: {np.round(test_mae, 2)}\")"
   ]
  },
  {
   "cell_type": "code",
   "execution_count": 69,
   "id": "5055921b",
   "metadata": {},
   "outputs": [
    {
     "name": "stdout",
     "output_type": "stream",
     "text": [
      "Type of test score: <class 'float'>\n",
      "Test score: 71.0%\n"
     ]
    }
   ],
   "source": [
    "# test scoring\n",
    "test_score = r2_score(y_test, test_pred)\n",
    "print(f\"Type of test score: {type(test_score)}\")\n",
    "print(f\"Test score: {100 * np.round(test_score,2)}%\")"
   ]
  },
  {
   "cell_type": "markdown",
   "id": "7e06e664",
   "metadata": {},
   "source": [
    "# 4. Communication"
   ]
  },
  {
   "cell_type": "code",
   "execution_count": 70,
   "id": "8349ef2b",
   "metadata": {},
   "outputs": [
    {
     "name": "stdout",
     "output_type": "stream",
     "text": [
      "Type of Model intercept: <class 'numpy.float64'>\n",
      "Model intercept: -8979.67\n"
     ]
    }
   ],
   "source": [
    "# getting the intercept\n",
    "model_intercept = model.named_steps[\"ridge\"].intercept_\n",
    "print(f\"Type of Model intercept: {type(model_intercept)}\")\n",
    "print(f\"Model intercept: {np.round(model_intercept,2)}\")"
   ]
  },
  {
   "cell_type": "code",
   "execution_count": 71,
   "id": "7945a047",
   "metadata": {},
   "outputs": [
    {
     "name": "stdout",
     "output_type": "stream",
     "text": [
      "Type of model coefficient: <class 'numpy.ndarray'>\n",
      "First two model coefficeints: [-2523.30799618   536.36062803]\n"
     ]
    }
   ],
   "source": [
    "# getting the model coefficients\n",
    "model_coef = model.named_steps[\"ridge\"].coef_\n",
    "print(f\"Type of model coefficient: {type(model_coef)}\")\n",
    "print(f\"First two model coefficeints: {model_coef[:2]}\")"
   ]
  },
  {
   "cell_type": "code",
   "execution_count": 72,
   "id": "673faf9a",
   "metadata": {},
   "outputs": [
    {
     "name": "stdout",
     "output_type": "stream",
     "text": [
      "Feature names type: <class 'numpy.ndarray'>\n",
      "First two feature names: ['carbody_hardtop' 'carbody_hatchback']\n"
     ]
    },
    {
     "name": "stderr",
     "output_type": "stream",
     "text": [
      "C:\\Users\\MY PC\\AppData\\Local\\Temp\\ipykernel_9092\\166216179.py:2: FutureWarning: `get_feature_names` is deprecated in all of sklearn. Use `get_feature_names_out` instead.\n",
      "  feature_names = model.named_steps[\"onehotencoder\"].get_feature_names()\n"
     ]
    }
   ],
   "source": [
    "# feature importance pandas\n",
    "feature_names = model.named_steps[\"onehotencoder\"].get_feature_names()\n",
    "print(f\"Feature names type: {type(feature_names)}\")\n",
    "print(f\"First two feature names: {feature_names[:2]}\")"
   ]
  },
  {
   "cell_type": "code",
   "execution_count": 73,
   "id": "e7cb6ef7",
   "metadata": {},
   "outputs": [
    {
     "name": "stdout",
     "output_type": "stream",
     "text": [
      "Type of feature importance: <class 'pandas.core.series.Series'>\n",
      "carbody_hardtop       -2523.307996\n",
      "carbody_hatchback       536.360628\n",
      "carbody_sedan           956.033190\n",
      "carbody_wagon          -807.455244\n",
      "carbody_convertible    1838.369423\n",
      "dtype: float64\n"
     ]
    }
   ],
   "source": [
    "# feature importance pd.Series\n",
    "feat_imp = pd.Series(model_coef, index= feature_names)\n",
    "print(f\"Type of feature importance: {type(feat_imp)}\")\n",
    "print(feat_imp.head())"
   ]
  },
  {
   "cell_type": "code",
   "execution_count": 74,
   "id": "ffb27640",
   "metadata": {},
   "outputs": [
    {
     "data": {
      "image/png": "[encoded data removed]",
      "text/plain": [
       "<Figure size 640x480 with 1 Axes>"
      ]
     },
     "metadata": {},
     "output_type": "display_data"
    }
   ],
   "source": [
    "# Feature importance plot\n",
    "feat_imp.plot(kind=\"barh\")\n",
    "plt.title(\"Feature importance plot\");"
   ]
  },
  {
   "cell_type": "code",
   "execution_count": 95,
   "id": "37b7fa2e",
   "metadata": {},
   "outputs": [],
   "source": [
    "# predictive function\n",
    "def prediction(carbody, drivewheel, \n",
    "               curbweight, enginetype, \n",
    "               cylindernumber, fuelsystem,\n",
    "                 highwaympg):\n",
    "  '''\n",
    "  Model get user imputs and predict the price\n",
    "\n",
    "  Parameters:\n",
    "    carbody(str)\n",
    "    drivewheel(str)\n",
    "    curbweight(int)\n",
    "    enginetype(str)\n",
    "    cylindernumber(str)\n",
    "    fuelsystem(str)\n",
    "    highwaympg(int)\n",
    "  '''\n",
    "  # making a df\n",
    "  dict_df = {\"carbody\": carbody,\n",
    "            \"drivewheel\": drivewheel,\n",
    "            \"curbweight\": curbweight,\n",
    "            \"enginetype\": enginetype,\n",
    "            \"cylindernumber\": cylindernumber,\n",
    "            \"fuelsystem\": fuelsystem,\n",
    "            \"highwaympg\": highwaympg}\n",
    "  # dataframe making\n",
    "  df = pd.DataFrame(dict_df, index=[0])\n",
    "  # model predictions\n",
    "  pred = model.predict(df)\n",
    "  # return \n",
    "  return f\"Model predictions is: {abs(np.round(pred,2).item())}\""
   ]
  },
  {
   "cell_type": "code",
   "execution_count": 96,
   "id": "1f77fdaf",
   "metadata": {},
   "outputs": [],
   "source": [
    "sample_test = \"hardtop\", \"rwd\", 2540, \"ohc\", \"two\", \"idi\", 1819"
   ]
  },
  {
   "cell_type": "code",
   "execution_count": 97,
   "id": "1ba2d493",
   "metadata": {},
   "outputs": [
    {
     "data": {
      "text/plain": [
       "'Model predictions is: 7759.04'"
      ]
     },
     "execution_count": 97,
     "metadata": {},
     "output_type": "execute_result"
    }
   ],
   "source": [
    "prediction(\"hardtop\", \"rwd\", 2540, \"ohc\", \"two\", \"idi\", 1819)"
   ]
  },
  {
   "cell_type": "code",
   "execution_count": 98,
   "id": "f616fac3",
   "metadata": {},
   "outputs": [
    {
     "data": {
      "application/vnd.jupyter.widget-view+json": {
       "model_id": "b039b503ce184b94a24ef1af63ef9cc8",
       "version_major": 2,
       "version_minor": 0
      },
      "text/plain": [
       "interactive(children=(Dropdown(description='carbody', options=('convertible', 'hardtop', 'hatchback', 'sedan',…"
      ]
     },
     "metadata": {},
     "output_type": "display_data"
    }
   ],
   "source": [
    "interact(\n",
    "    prediction,\n",
    "    carbody = Dropdown(options = sorted(df[\"carbody\"].unique())),\n",
    "    drivewheel = Dropdown(options = sorted(df[\"drivewheel\"].unique())),\n",
    "    curbweight = IntSlider(\n",
    "        min = df[\"curbweight\"].min(),\n",
    "        max = df[\"curbweight\"].max(),\n",
    "        value = df[\"curbweight\"].mean(),\n",
    "    ),\n",
    "    enginetype = Dropdown(options = sorted(df[\"enginetype\"].unique())),\n",
    "    cylindernumber = Dropdown(options = sorted(df[\"cylindernumber\"].unique())),\n",
    "    fuelsystem = Dropdown(options = sorted(df[\"fuelsystem\"].unique())),\n",
    "    highwaympg = IntSlider(\n",
    "            min = df[\"curbweight\"].min(),\n",
    "            max = df[\"curbweight\"].max(),\n",
    "            value = df[\"curbweight\"].mean(),\n",
    "        ),\n",
    ");"
   ]
  },
  {
   "cell_type": "markdown",
   "id": "a8e9d778-4a8b-4225-af82-904a7d82c765",
   "metadata": {},
   "source": [
    "# ** THE END** #"
   ]
  },
  {
   "cell_type": "code",
   "execution_count": null,
   "id": "cb52df98-fb68-4f54-bdfb-55c408d02767",
   "metadata": {},
   "outputs": [],
   "source": []
  }
 ],
 "metadata": {
  "kernelspec": {
   "display_name": "Python 3 (ipykernel)",
   "language": "python",
   "name": "python3"
  },
  "language_info": {
   "codemirror_mode": {
    "name": "ipython",
    "version": 3
   },
   "file_extension": ".py",
   "mimetype": "text/x-python",
   "name": "python",
   "nbconvert_exporter": "python",
   "pygments_lexer": "ipython3",
   "version": "3.13.2"
  },
  "widgets": {
   "application/vnd.jupyter.widget-state+json": {
    "state": {
     "0054532590ca4eeeaad4cfe1ce12868c": {
      "model_module": "@jupyter-widgets/controls",
      "model_module_version": "2.0.0",
      "model_name": "DescriptionStyleModel",
      "state": {
       "description_width": ""
      }
     },
     "020bc50a390a45d192bf3bde9feabf04": {
      "model_module": "@jupyter-widgets/controls",
      "model_module_version": "2.0.0",
      "model_name": "IntSliderModel",
      "state": {
       "behavior": "drag-tap",
       "description": "highwaympg",
       "layout": "IPY_MODEL_b58d841d45a448d5be76c066889e82c1",
       "max": 3485,
       "min": 1819,
       "style": "IPY_MODEL_2af673b2d1f84fc1bd0d02dbe07646a9",
       "value": 2476
      }
     },
     "0349e052c69d48eeafab96f9bd7d8cbf": {
      "model_module": "@jupyter-widgets/base",
      "model_module_version": "2.0.0",
      "model_name": "LayoutModel",
      "state": {}
     },
     "071303405ad049a7bc2f69e833acdeaa": {
      "model_module": "@jupyter-widgets/base",
      "model_module_version": "2.0.0",
      "model_name": "LayoutModel",
      "state": {}
     },
     "07ea2cc1625944eb889b431726ae9e04": {
      "model_module": "@jupyter-widgets/controls",
      "model_module_version": "2.0.0",
      "model_name": "DescriptionStyleModel",
      "state": {
       "description_width": ""
      }
     },
     "0916cad073c24c9aa7ab42481d206323": {
      "model_module": "@jupyter-widgets/controls",
      "model_module_version": "2.0.0",
      "model_name": "DropdownModel",
      "state": {
       "_options_labels": [
        "4wd",
        "fwd",
        "rwd"
       ],
       "description": "drivewheel",
       "index": 2,
       "layout": "IPY_MODEL_144a0e2c1c8645ae8a20bfacd9ddd5cd",
       "style": "IPY_MODEL_f2aad8773994472ba637b5aeb950ed50"
      }
     },
     "09b3d2fc1cb541b4b14666f9c2f165d0": {
      "model_module": "@jupyter-widgets/controls",
      "model_module_version": "2.0.0",
      "model_name": "DescriptionStyleModel",
      "state": {
       "description_width": ""
      }
     },
     "0aab15cdd70c4627921261707173ac2f": {
      "model_module": "@jupyter-widgets/base",
      "model_module_version": "2.0.0",
      "model_name": "LayoutModel",
      "state": {}
     },
     "0ac7c00260664ac99e245548d5ee64f9": {
      "model_module": "@jupyter-widgets/base",
      "model_module_version": "2.0.0",
      "model_name": "LayoutModel",
      "state": {}
     },
     "0eafb1de09a04601a83bf091d2a858c4": {
      "model_module": "@jupyter-widgets/controls",
      "model_module_version": "2.0.0",
      "model_name": "VBoxModel",
      "state": {
       "_dom_classes": [
        "widget-interact"
       ],
       "children": [
        "IPY_MODEL_c5fa106560ed49fe871881de874d38b9",
        "IPY_MODEL_0916cad073c24c9aa7ab42481d206323",
        "IPY_MODEL_f081f89d7f3349d5b0e98e300ab4e747",
        "IPY_MODEL_28325fb82e7f4b0da86a6d873f4eb4ae",
        "IPY_MODEL_7227f72a04564f759a1666bde5606b7a",
        "IPY_MODEL_7d180456dc11499cbc6d38d3b36ddcd9",
        "IPY_MODEL_f45e88bd054d4ee5b228b92b6edd1aa4",
        "IPY_MODEL_2ffcfd6f3eb44803b96d521dfdbc647b"
       ],
       "layout": "IPY_MODEL_638ddd11768d49689c6e11458a70d6c1"
      }
     },
     "0f19e20b1a3c4955bb8abc0f119737ab": {
      "model_module": "@jupyter-widgets/controls",
      "model_module_version": "2.0.0",
      "model_name": "DropdownModel",
      "state": {
       "_options_labels": [
        "dohc",
        "l",
        "ohc",
        "ohcf",
        "ohcv",
        "rotor"
       ],
       "description": "enginetype",
       "index": 0,
       "layout": "IPY_MODEL_3153edd28f5343999e8bc7986e2f34b7",
       "style": "IPY_MODEL_2b625a779f654d0697ac791f217683bf"
      }
     },
     "144a0e2c1c8645ae8a20bfacd9ddd5cd": {
      "model_module": "@jupyter-widgets/base",
      "model_module_version": "2.0.0",
      "model_name": "LayoutModel",
      "state": {}
     },
     "14e47a816447494795b30e35b9894db2": {
      "model_module": "@jupyter-widgets/controls",
      "model_module_version": "2.0.0",
      "model_name": "IntSliderModel",
      "state": {
       "behavior": "drag-tap",
       "description": "curbweight",
       "layout": "IPY_MODEL_70c1fff81ab940a299e29d2aaa6e4cdb",
       "max": 3485,
       "min": 1819,
       "style": "IPY_MODEL_a741210163464d549bdb43e2b312d503",
       "value": 2476
      }
     },
     "1632ba6e7c504d1bb4d27e32cebf2310": {
      "model_module": "@jupyter-widgets/controls",
      "model_module_version": "2.0.0",
      "model_name": "DropdownModel",
      "state": {
       "_options_labels": [
        "1bbl",
        "2bbl",
        "4bbl",
        "idi",
        "mfi",
        "mpfi",
        "spdi",
        "spfi"
       ],
       "description": "fuelsystem",
       "index": 0,
       "layout": "IPY_MODEL_c4c51a6fb7cc47ecae069f87917980d7",
       "style": "IPY_MODEL_07ea2cc1625944eb889b431726ae9e04"
      }
     },
     "167dc515e3cb484ca296a3d3a3cc439f": {
      "model_module": "@jupyter-widgets/controls",
      "model_module_version": "2.0.0",
      "model_name": "DropdownModel",
      "state": {
       "_options_labels": [
        "1bbl",
        "2bbl",
        "4bbl",
        "idi",
        "mfi",
        "mpfi",
        "spdi",
        "spfi"
       ],
       "description": "fuelsystem",
       "index": 5,
       "layout": "IPY_MODEL_cc157eac76994f11a2ab91ef01a7ebf5",
       "style": "IPY_MODEL_83ea0b82102a4f7397c39fc1a2846381"
      }
     },
     "184a16bd5f6b4eff938744fc3f8b4860": {
      "model_module": "@jupyter-widgets/base",
      "model_module_version": "2.0.0",
      "model_name": "LayoutModel",
      "state": {}
     },
     "186d0e2366284368831e6aaa0c7f275b": {
      "model_module": "@jupyter-widgets/controls",
      "model_module_version": "2.0.0",
      "model_name": "SliderStyleModel",
      "state": {
       "description_width": ""
      }
     },
     "190c7971a70c4120bd3c69d1b562a995": {
      "model_module": "@jupyter-widgets/controls",
      "model_module_version": "2.0.0",
      "model_name": "DropdownModel",
      "state": {
       "_options_labels": [
        "dohc",
        "l",
        "ohc",
        "ohcf",
        "ohcv",
        "rotor"
       ],
       "description": "enginetype",
       "index": 0,
       "layout": "IPY_MODEL_ed09bc5d23e04804897674aa6399eafd",
       "style": "IPY_MODEL_85752875c9f94a02a5acb069454fd72e"
      }
     },
     "1928f9822c2b4c5eb641223cdd97ce1c": {
      "model_module": "@jupyter-widgets/controls",
      "model_module_version": "2.0.0",
      "model_name": "DescriptionStyleModel",
      "state": {
       "description_width": ""
      }
     },
     "198774c1fe16418b930714958d5e1ed7": {
      "model_module": "@jupyter-widgets/controls",
      "model_module_version": "2.0.0",
      "model_name": "DescriptionStyleModel",
      "state": {
       "description_width": ""
      }
     },
     "1b07378c65374dd0bed8611092abcf69": {
      "model_module": "@jupyter-widgets/controls",
      "model_module_version": "2.0.0",
      "model_name": "DropdownModel",
      "state": {
       "_options_labels": [
        "dohc",
        "l",
        "ohc",
        "ohcf",
        "ohcv",
        "rotor"
       ],
       "description": "enginetype",
       "index": 3,
       "layout": "IPY_MODEL_2cc54fb065b048158fac925e8787a478",
       "style": "IPY_MODEL_a2aea5d98ed44cddae5e7c15e174f15f"
      }
     },
     "1b8a412d160d4762a2020b57161a17eb": {
      "model_module": "@jupyter-widgets/controls",
      "model_module_version": "2.0.0",
      "model_name": "DropdownModel",
      "state": {
       "_options_labels": [
        "dohc",
        "l",
        "ohc",
        "ohcf",
        "ohcv",
        "rotor"
       ],
       "description": "enginetype",
       "index": 0,
       "layout": "IPY_MODEL_071303405ad049a7bc2f69e833acdeaa",
       "style": "IPY_MODEL_e33ccc5f4fe8467481e8d73f22717c26"
      }
     },
     "1d27c52d929e48e7b325110abfdc9c23": {
      "model_module": "@jupyter-widgets/controls",
      "model_module_version": "2.0.0",
      "model_name": "DropdownModel",
      "state": {
       "_options_labels": [
        "five",
        "four",
        "six",
        "two"
       ],
       "description": "cylindernumber",
       "index": 0,
       "layout": "IPY_MODEL_c4597beae1604cf5b8d17e70c16b67a3",
       "style": "IPY_MODEL_670f039774a243b38ce25be64c348f62"
      }
     },
     "1f6da807059d4b719e41df2dc68b1db9": {
      "model_module": "@jupyter-widgets/controls",
      "model_module_version": "2.0.0",
      "model_name": "DescriptionStyleModel",
      "state": {
       "description_width": ""
      }
     },
     "213d283e9dad4fbe916a72a99353c741": {
      "model_module": "@jupyter-widgets/base",
      "model_module_version": "2.0.0",
      "model_name": "LayoutModel",
      "state": {}
     },
     "2163a7be383b4e13b54a1632e1c96281": {
      "model_module": "@jupyter-widgets/controls",
      "model_module_version": "2.0.0",
      "model_name": "DescriptionStyleModel",
      "state": {
       "description_width": ""
      }
     },
     "221257566d5c4653b4ad66e1bc442efd": {
      "model_module": "@jupyter-widgets/base",
      "model_module_version": "2.0.0",
      "model_name": "LayoutModel",
      "state": {}
     },
     "2268a171903f4cf798be443ebe486705": {
      "model_module": "@jupyter-widgets/base",
      "model_module_version": "2.0.0",
      "model_name": "LayoutModel",
      "state": {}
     },
     "22a36189e4554e15a7a62404861a0461": {
      "model_module": "@jupyter-widgets/controls",
      "model_module_version": "2.0.0",
      "model_name": "IntSliderModel",
      "state": {
       "behavior": "drag-tap",
       "description": "highwaympg",
       "layout": "IPY_MODEL_e8fe09b3521c470da6a40b4a91073bac",
       "max": 3485,
       "min": 1819,
       "style": "IPY_MODEL_f2ce9a2be1ae4f9e9946f13c297b7a74",
       "value": 2476
      }
     },
     "2451ce9824934e8b9a344b624dfedf3f": {
      "model_module": "@jupyter-widgets/controls",
      "model_module_version": "2.0.0",
      "model_name": "DescriptionStyleModel",
      "state": {
       "description_width": ""
      }
     },
     "250360ed74ea4c3aadf6a9857445efa3": {
      "model_module": "@jupyter-widgets/controls",
      "model_module_version": "2.0.0",
      "model_name": "DescriptionStyleModel",
      "state": {
       "description_width": ""
      }
     },
     "2517dad8274348aab78cc5bde93a5cc0": {
      "model_module": "@jupyter-widgets/controls",
      "model_module_version": "2.0.0",
      "model_name": "VBoxModel",
      "state": {
       "_dom_classes": [
        "widget-interact"
       ],
       "children": [
        "IPY_MODEL_4380a1f3f0144e56a55fbdc47cfc288f",
        "IPY_MODEL_f3fab042a64d45eda4caac609bf0e475",
        "IPY_MODEL_14e47a816447494795b30e35b9894db2",
        "IPY_MODEL_1b8a412d160d4762a2020b57161a17eb",
        "IPY_MODEL_34a2b33d9c074b5797bea30dce17a815",
        "IPY_MODEL_d1d0428ce3ef4d40b39f376b15244477",
        "IPY_MODEL_020bc50a390a45d192bf3bde9feabf04",
        "IPY_MODEL_92acffd37cc94e828e59d33c5fe863a0"
       ],
       "layout": "IPY_MODEL_b58cc7984622420ba7fa50933f213fc4"
      }
     },
     "25afff7550564d93a41d862248509543": {
      "model_module": "@jupyter-widgets/controls",
      "model_module_version": "2.0.0",
      "model_name": "DropdownModel",
      "state": {
       "index": null,
       "layout": "IPY_MODEL_3dcc8563179f4d268accf51ae18c9470",
       "style": "IPY_MODEL_2451ce9824934e8b9a344b624dfedf3f"
      }
     },
     "265a62ede6374974bbe560edb714f359": {
      "model_module": "@jupyter-widgets/controls",
      "model_module_version": "2.0.0",
      "model_name": "DescriptionStyleModel",
      "state": {
       "description_width": ""
      }
     },
     "26b980e90a8b416a9447e67507c31acd": {
      "model_module": "@jupyter-widgets/controls",
      "model_module_version": "2.0.0",
      "model_name": "DescriptionStyleModel",
      "state": {
       "description_width": ""
      }
     },
     "2709f65718044184a60172d48d1feb55": {
      "model_module": "@jupyter-widgets/controls",
      "model_module_version": "2.0.0",
      "model_name": "DropdownModel",
      "state": {
       "_options_labels": [
        "convertible",
        "hardtop",
        "hatchback",
        "sedan",
        "wagon"
       ],
       "index": 2,
       "layout": "IPY_MODEL_4b6fc90a1a944df2b8fb0745f2bd5b39",
       "style": "IPY_MODEL_d1db4b989b894b7ca57f69d6afc5408b"
      }
     },
     "28325fb82e7f4b0da86a6d873f4eb4ae": {
      "model_module": "@jupyter-widgets/controls",
      "model_module_version": "2.0.0",
      "model_name": "DropdownModel",
      "state": {
       "_options_labels": [
        "dohc",
        "l",
        "ohc",
        "ohcf",
        "ohcv",
        "rotor"
       ],
       "description": "enginetype",
       "index": 2,
       "layout": "IPY_MODEL_53ba12ddf5c4447ab63648c231d47990",
       "style": "IPY_MODEL_a1b6f337720c4f38a0558b40eb06ff71"
      }
     },
     "2ada6d430df74445bd2041908ad105a6": {
      "model_module": "@jupyter-widgets/base",
      "model_module_version": "2.0.0",
      "model_name": "LayoutModel",
      "state": {}
     },
     "2af673b2d1f84fc1bd0d02dbe07646a9": {
      "model_module": "@jupyter-widgets/controls",
      "model_module_version": "2.0.0",
      "model_name": "SliderStyleModel",
      "state": {
       "description_width": ""
      }
     },
     "2b583b052c37408a93131a9a61cd5b50": {
      "model_module": "@jupyter-widgets/controls",
      "model_module_version": "2.0.0",
      "model_name": "IntSliderModel",
      "state": {
       "behavior": "drag-tap",
       "layout": "IPY_MODEL_f457c03c0ff24e8fbaae79a1a0fb885c",
       "max": 3485,
       "min": 1819,
       "style": "IPY_MODEL_da1a1d2a9e5f433f85f6bde559ab4588",
       "value": 2397
      }
     },
     "2b625a779f654d0697ac791f217683bf": {
      "model_module": "@jupyter-widgets/controls",
      "model_module_version": "2.0.0",
      "model_name": "DescriptionStyleModel",
      "state": {
       "description_width": ""
      }
     },
     "2c6c8c12e233459e982c13b12281ade5": {
      "model_module": "@jupyter-widgets/base",
      "model_module_version": "2.0.0",
      "model_name": "LayoutModel",
      "state": {}
     },
     "2cc54fb065b048158fac925e8787a478": {
      "model_module": "@jupyter-widgets/base",
      "model_module_version": "2.0.0",
      "model_name": "LayoutModel",
      "state": {}
     },
     "2d373d51f0204f85a8046e493cc9a200": {
      "model_module": "@jupyter-widgets/controls",
      "model_module_version": "2.0.0",
      "model_name": "DropdownModel",
      "state": {
       "_options_labels": [
        "five",
        "four",
        "six",
        "two"
       ],
       "description": "cylindernumber",
       "index": 0,
       "layout": "IPY_MODEL_0aab15cdd70c4627921261707173ac2f",
       "style": "IPY_MODEL_2163a7be383b4e13b54a1632e1c96281"
      }
     },
     "2d9c96bdda264dbb97c13d201fc36a97": {
      "model_module": "@jupyter-widgets/controls",
      "model_module_version": "2.0.0",
      "model_name": "SliderStyleModel",
      "state": {
       "description_width": ""
      }
     },
     "2e09b3fea96b4afd816b0862629b365b": {
      "model_module": "@jupyter-widgets/base",
      "model_module_version": "2.0.0",
      "model_name": "LayoutModel",
      "state": {}
     },
     "2ef87d3006e14b7b9311152d9c37a74f": {
      "model_module": "@jupyter-widgets/output",
      "model_module_version": "1.0.0",
      "model_name": "OutputModel",
      "state": {
       "layout": "IPY_MODEL_8eedbb95c84b44f4969e81deac9edcfd",
       "outputs": [
        {
         "ename": "TypeError",
         "evalue": "'Dropdown' object is not callable",
         "output_type": "error",
         "traceback": [
          "\u001b[1;31m---------------------------------------------------------------------------\u001b[0m",
          "\u001b[1;31mTypeError\u001b[0m                                 Traceback (most recent call last)",
          "File \u001b[1;32m~\\AppData\\Local\\Programs\\Python\\Python313\\Lib\\site-packages\\ipywidgets\\widgets\\interaction.py:243\u001b[0m, in \u001b[0;36minteractive.update\u001b[1;34m(self, *args)\u001b[0m\n\u001b[0;32m    241\u001b[0m     value \u001b[38;5;241m=\u001b[39m widget\u001b[38;5;241m.\u001b[39mget_interact_value()\n\u001b[0;32m    242\u001b[0m     \u001b[38;5;28mself\u001b[39m\u001b[38;5;241m.\u001b[39mkwargs[widget\u001b[38;5;241m.\u001b[39m_kwarg] \u001b[38;5;241m=\u001b[39m value\n\u001b[1;32m--> 243\u001b[0m \u001b[38;5;28mself\u001b[39m\u001b[38;5;241m.\u001b[39mresult \u001b[38;5;241m=\u001b[39m \u001b[38;5;28;43mself\u001b[39;49m\u001b[38;5;241;43m.\u001b[39;49m\u001b[43mf\u001b[49m\u001b[43m(\u001b[49m\u001b[38;5;241;43m*\u001b[39;49m\u001b[38;5;241;43m*\u001b[39;49m\u001b[38;5;28;43mself\u001b[39;49m\u001b[38;5;241;43m.\u001b[39;49m\u001b[43mkwargs\u001b[49m\u001b[43m)\u001b[49m\n\u001b[0;32m    244\u001b[0m show_inline_matplotlib_plots()\n\u001b[0;32m    245\u001b[0m \u001b[38;5;28;01mif\u001b[39;00m \u001b[38;5;28mself\u001b[39m\u001b[38;5;241m.\u001b[39mauto_display \u001b[38;5;129;01mand\u001b[39;00m \u001b[38;5;28mself\u001b[39m\u001b[38;5;241m.\u001b[39mresult \u001b[38;5;129;01mis\u001b[39;00m \u001b[38;5;129;01mnot\u001b[39;00m \u001b[38;5;28;01mNone\u001b[39;00m:\n",
          "\u001b[1;31mTypeError\u001b[0m: 'Dropdown' object is not callable"
         ]
        }
       ]
      }
     },
     "2ffcfd6f3eb44803b96d521dfdbc647b": {
      "model_module": "@jupyter-widgets/output",
      "model_module_version": "1.0.0",
      "model_name": "OutputModel",
      "state": {
       "layout": "IPY_MODEL_a352f3909365430e9be281d264cc0c24",
       "outputs": [
        {
         "data": {
          "text/plain": "'Model predictions is: -7734.65'"
         },
         "metadata": {},
         "output_type": "display_data"
        }
       ]
      }
     },
     "302fd5dc9f8644859a82f6819e7224b6": {
      "model_module": "@jupyter-widgets/controls",
      "model_module_version": "2.0.0",
      "model_name": "SliderStyleModel",
      "state": {
       "description_width": ""
      }
     },
     "3153edd28f5343999e8bc7986e2f34b7": {
      "model_module": "@jupyter-widgets/base",
      "model_module_version": "2.0.0",
      "model_name": "LayoutModel",
      "state": {}
     },
     "34901493c382458aa2569f497ebe79a6": {
      "model_module": "@jupyter-widgets/controls",
      "model_module_version": "2.0.0",
      "model_name": "DescriptionStyleModel",
      "state": {
       "description_width": ""
      }
     },
     "34a2b33d9c074b5797bea30dce17a815": {
      "model_module": "@jupyter-widgets/controls",
      "model_module_version": "2.0.0",
      "model_name": "DropdownModel",
      "state": {
       "_options_labels": [
        "five",
        "four",
        "six",
        "two"
       ],
       "description": "cylindernumber",
       "index": 0,
       "layout": "IPY_MODEL_d35e8830a1e34a249937be0273a43c3f",
       "style": "IPY_MODEL_e3ef4b9a8cb04e5b9de063edc7c6c92c"
      }
     },
     "3c9921b6755646859144035f0e71f20f": {
      "model_module": "@jupyter-widgets/base",
      "model_module_version": "2.0.0",
      "model_name": "LayoutModel",
      "state": {}
     },
     "3d14dd7f8eca4d68af3d83dc6967c09b": {
      "model_module": "@jupyter-widgets/controls",
      "model_module_version": "2.0.0",
      "model_name": "DropdownModel",
      "state": {
       "_options_labels": [
        "1bbl",
        "2bbl",
        "4bbl",
        "idi",
        "mfi",
        "mpfi",
        "spdi",
        "spfi"
       ],
       "description": "fuelsystem",
       "index": 0,
       "layout": "IPY_MODEL_9ed32a1ec63d4e9b90786093e9f19121",
       "style": "IPY_MODEL_250360ed74ea4c3aadf6a9857445efa3"
      }
     },
     "3dcc8563179f4d268accf51ae18c9470": {
      "model_module": "@jupyter-widgets/base",
      "model_module_version": "2.0.0",
      "model_name": "LayoutModel",
      "state": {}
     },
     "418dff133a84415386e26dd1477d1de6": {
      "model_module": "@jupyter-widgets/base",
      "model_module_version": "2.0.0",
      "model_name": "LayoutModel",
      "state": {}
     },
     "4306ec6d983f4b38b3d11d0bedead6c1": {
      "model_module": "@jupyter-widgets/controls",
      "model_module_version": "2.0.0",
      "model_name": "DescriptionStyleModel",
      "state": {
       "description_width": ""
      }
     },
     "4380a1f3f0144e56a55fbdc47cfc288f": {
      "model_module": "@jupyter-widgets/controls",
      "model_module_version": "2.0.0",
      "model_name": "DropdownModel",
      "state": {
       "_options_labels": [
        "convertible",
        "hardtop",
        "hatchback",
        "sedan",
        "wagon"
       ],
       "description": "carbody",
       "index": 0,
       "layout": "IPY_MODEL_718d1aa74bcf4092b59ea2ccf9ff0973",
       "style": "IPY_MODEL_de8e430f61324ed39188ab9251b93e52"
      }
     },
     "443670dc1dfb4982a8d6fa8d6d7d1402": {
      "model_module": "@jupyter-widgets/controls",
      "model_module_version": "2.0.0",
      "model_name": "SliderStyleModel",
      "state": {
       "description_width": ""
      }
     },
     "491ab3b57ad64af58b66586b58ee4c6e": {
      "model_module": "@jupyter-widgets/base",
      "model_module_version": "2.0.0",
      "model_name": "LayoutModel",
      "state": {}
     },
     "4b6fc90a1a944df2b8fb0745f2bd5b39": {
      "model_module": "@jupyter-widgets/base",
      "model_module_version": "2.0.0",
      "model_name": "LayoutModel",
      "state": {}
     },
     "4bd7614f41364fb6b6bee051bbd2abcd": {
      "model_module": "@jupyter-widgets/base",
      "model_module_version": "2.0.0",
      "model_name": "LayoutModel",
      "state": {}
     },
     "4d165e003ced442087b4af017379fc1f": {
      "model_module": "@jupyter-widgets/base",
      "model_module_version": "2.0.0",
      "model_name": "LayoutModel",
      "state": {}
     },
     "4eb0f393f9a04141a46c29a482bccbde": {
      "model_module": "@jupyter-widgets/output",
      "model_module_version": "1.0.0",
      "model_name": "OutputModel",
      "state": {
       "layout": "IPY_MODEL_75a5df662940411f9097b675c2be0b98",
       "outputs": [
        {
         "data": {
          "text/plain": "'Model predictions is: [-12684.58]'"
         },
         "metadata": {},
         "output_type": "display_data"
        }
       ]
      }
     },
     "4f986ebb8cb340bdbbcd90ff288713b7": {
      "model_module": "@jupyter-widgets/controls",
      "model_module_version": "2.0.0",
      "model_name": "DropdownModel",
      "state": {
       "_options_labels": [
        "4wd",
        "fwd",
        "rwd"
       ],
       "description": "drivewheel",
       "index": 1,
       "layout": "IPY_MODEL_fa01504df23347d095f9ae8e67b44945",
       "style": "IPY_MODEL_34901493c382458aa2569f497ebe79a6"
      }
     },
     "4fc7b68bb34b4367bcc130ba013f92ce": {
      "model_module": "@jupyter-widgets/controls",
      "model_module_version": "2.0.0",
      "model_name": "IntSliderModel",
      "state": {
       "behavior": "drag-tap",
       "description": "highwaympg",
       "layout": "IPY_MODEL_7c28b560eef34d34b2b6a91d9dde37f8",
       "max": 50,
       "min": 20,
       "style": "IPY_MODEL_74cabe966ac940b38ced883d1b115b42",
       "value": 28
      }
     },
     "53ba12ddf5c4447ab63648c231d47990": {
      "model_module": "@jupyter-widgets/base",
      "model_module_version": "2.0.0",
      "model_name": "LayoutModel",
      "state": {}
     },
     "54395472c27840a595952d453fbcdd3c": {
      "model_module": "@jupyter-widgets/base",
      "model_module_version": "2.0.0",
      "model_name": "LayoutModel",
      "state": {}
     },
     "560e24fab06542a492c20e21da48ad43": {
      "model_module": "@jupyter-widgets/base",
      "model_module_version": "2.0.0",
      "model_name": "LayoutModel",
      "state": {}
     },
     "5bd9d26002c94e8c8d19b6980af024e2": {
      "model_module": "@jupyter-widgets/controls",
      "model_module_version": "2.0.0",
      "model_name": "DropdownModel",
      "state": {
       "_options_labels": [
        "4wd",
        "fwd",
        "rwd"
       ],
       "description": "drivewheel",
       "index": 0,
       "layout": "IPY_MODEL_d28c3478047e4a4ebe60460433200833",
       "style": "IPY_MODEL_f8c7c54fac4e41baabb16f07625cd74b"
      }
     },
     "61f100df9a7649b39a3d5382a70c12ad": {
      "model_module": "@jupyter-widgets/base",
      "model_module_version": "2.0.0",
      "model_name": "LayoutModel",
      "state": {}
     },
     "627a20aaf52149ebb1b663fbd3739039": {
      "model_module": "@jupyter-widgets/controls",
      "model_module_version": "2.0.0",
      "model_name": "DropdownModel",
      "state": {
       "_options_labels": [
        "4wd",
        "fwd",
        "rwd"
       ],
       "index": 1,
       "layout": "IPY_MODEL_faf14acb6ea845afbecd4c76d9606fa2",
       "style": "IPY_MODEL_c840fcffc6454e65ab57f34d840f9759"
      }
     },
     "638ddd11768d49689c6e11458a70d6c1": {
      "model_module": "@jupyter-widgets/base",
      "model_module_version": "2.0.0",
      "model_name": "LayoutModel",
      "state": {}
     },
     "670f039774a243b38ce25be64c348f62": {
      "model_module": "@jupyter-widgets/controls",
      "model_module_version": "2.0.0",
      "model_name": "DescriptionStyleModel",
      "state": {
       "description_width": ""
      }
     },
     "675f2d1b0eee440eacbacf38f7be7d60": {
      "model_module": "@jupyter-widgets/controls",
      "model_module_version": "2.0.0",
      "model_name": "IntSliderModel",
      "state": {
       "behavior": "drag-tap",
       "layout": "IPY_MODEL_f6a65460eec94f4baa12e19daf951358",
       "max": 50,
       "min": 20,
       "style": "IPY_MODEL_ae2d9166b5504d279d853af12d2eb488",
       "value": 37
      }
     },
     "690b5a56cbba44789b1dbf03fc4e860d": {
      "model_module": "@jupyter-widgets/base",
      "model_module_version": "2.0.0",
      "model_name": "LayoutModel",
      "state": {}
     },
     "695e3ed9c2ff46a7af19afdcbbb444ae": {
      "model_module": "@jupyter-widgets/output",
      "model_module_version": "1.0.0",
      "model_name": "OutputModel",
      "state": {
       "layout": "IPY_MODEL_3c9921b6755646859144035f0e71f20f",
       "outputs": [
        {
         "data": {
          "text/plain": "'Model predictions is: 13503.76'"
         },
         "metadata": {},
         "output_type": "display_data"
        }
       ]
      }
     },
     "6ea67d10637442079df037db7af68f04": {
      "model_module": "@jupyter-widgets/controls",
      "model_module_version": "2.0.0",
      "model_name": "DescriptionStyleModel",
      "state": {
       "description_width": ""
      }
     },
     "70c1fff81ab940a299e29d2aaa6e4cdb": {
      "model_module": "@jupyter-widgets/base",
      "model_module_version": "2.0.0",
      "model_name": "LayoutModel",
      "state": {}
     },
     "718d1aa74bcf4092b59ea2ccf9ff0973": {
      "model_module": "@jupyter-widgets/base",
      "model_module_version": "2.0.0",
      "model_name": "LayoutModel",
      "state": {}
     },
     "7227f72a04564f759a1666bde5606b7a": {
      "model_module": "@jupyter-widgets/controls",
      "model_module_version": "2.0.0",
      "model_name": "DropdownModel",
      "state": {
       "_options_labels": [
        "five",
        "four",
        "six",
        "two"
       ],
       "description": "cylindernumber",
       "index": 3,
       "layout": "IPY_MODEL_fc06bea33ae14ef287b8155e612c576d",
       "style": "IPY_MODEL_265a62ede6374974bbe560edb714f359"
      }
     },
     "732529522f644ac1a0abaf99874ebcb9": {
      "model_module": "@jupyter-widgets/controls",
      "model_module_version": "2.0.0",
      "model_name": "SliderStyleModel",
      "state": {
       "description_width": ""
      }
     },
     "745c6bed5294411294eff1fea4ecdd46": {
      "model_module": "@jupyter-widgets/controls",
      "model_module_version": "2.0.0",
      "model_name": "DescriptionStyleModel",
      "state": {
       "description_width": ""
      }
     },
     "74cabe966ac940b38ced883d1b115b42": {
      "model_module": "@jupyter-widgets/controls",
      "model_module_version": "2.0.0",
      "model_name": "SliderStyleModel",
      "state": {
       "description_width": ""
      }
     },
     "74f87a7fcefc468391de9b413877088c": {
      "model_module": "@jupyter-widgets/controls",
      "model_module_version": "2.0.0",
      "model_name": "IntSliderModel",
      "state": {
       "behavior": "drag-tap",
       "description": "curbweight",
       "layout": "IPY_MODEL_560e24fab06542a492c20e21da48ad43",
       "max": 3485,
       "min": 1819,
       "style": "IPY_MODEL_443670dc1dfb4982a8d6fa8d6d7d1402",
       "value": 3175
      }
     },
     "754cfa805c6d43ac9a0db752eba2270e": {
      "model_module": "@jupyter-widgets/base",
      "model_module_version": "2.0.0",
      "model_name": "LayoutModel",
      "state": {}
     },
     "75a5df662940411f9097b675c2be0b98": {
      "model_module": "@jupyter-widgets/base",
      "model_module_version": "2.0.0",
      "model_name": "LayoutModel",
      "state": {}
     },
     "75df634ab3054369a78f5b1c0e8b98a3": {
      "model_module": "@jupyter-widgets/base",
      "model_module_version": "2.0.0",
      "model_name": "LayoutModel",
      "state": {}
     },
     "7927e3cd53ea427c9c031f7bf91c1a12": {
      "model_module": "@jupyter-widgets/controls",
      "model_module_version": "2.0.0",
      "model_name": "DropdownModel",
      "state": {
       "_options_labels": [
        "4wd",
        "fwd",
        "rwd"
       ],
       "description": "drivewheel",
       "index": 0,
       "layout": "IPY_MODEL_75df634ab3054369a78f5b1c0e8b98a3",
       "style": "IPY_MODEL_4306ec6d983f4b38b3d11d0bedead6c1"
      }
     },
     "7928411802dd4a01a1c0ab90299dcd3d": {
      "model_module": "@jupyter-widgets/controls",
      "model_module_version": "2.0.0",
      "model_name": "DropdownModel",
      "state": {
       "_options_labels": [
        "4wd",
        "fwd",
        "rwd"
       ],
       "description": "drivewheel",
       "index": 0,
       "layout": "IPY_MODEL_690b5a56cbba44789b1dbf03fc4e860d",
       "style": "IPY_MODEL_acc1c323d6ad45dd9ccfadcbbdaf8a22"
      }
     },
     "7c28b560eef34d34b2b6a91d9dde37f8": {
      "model_module": "@jupyter-widgets/base",
      "model_module_version": "2.0.0",
      "model_name": "LayoutModel",
      "state": {}
     },
     "7ce760810f5047ff9567182b2b782249": {
      "model_module": "@jupyter-widgets/base",
      "model_module_version": "2.0.0",
      "model_name": "LayoutModel",
      "state": {}
     },
     "7d180456dc11499cbc6d38d3b36ddcd9": {
      "model_module": "@jupyter-widgets/controls",
      "model_module_version": "2.0.0",
      "model_name": "DropdownModel",
      "state": {
       "_options_labels": [
        "1bbl",
        "2bbl",
        "4bbl",
        "idi",
        "mfi",
        "mpfi",
        "spdi",
        "spfi"
       ],
       "description": "fuelsystem",
       "index": 3,
       "layout": "IPY_MODEL_9740466e16114215bb629d7992ace33f",
       "style": "IPY_MODEL_94f6249a9d754a70aaf3e532cf2e9531"
      }
     },
     "7fafc0769845453f82e53bd6c37706e8": {
      "model_module": "@jupyter-widgets/controls",
      "model_module_version": "2.0.0",
      "model_name": "SliderStyleModel",
      "state": {
       "description_width": ""
      }
     },
     "823d0f16d5ee4dcf87881e4ab04e14a2": {
      "model_module": "@jupyter-widgets/base",
      "model_module_version": "2.0.0",
      "model_name": "LayoutModel",
      "state": {}
     },
     "83ea0b82102a4f7397c39fc1a2846381": {
      "model_module": "@jupyter-widgets/controls",
      "model_module_version": "2.0.0",
      "model_name": "DescriptionStyleModel",
      "state": {
       "description_width": ""
      }
     },
     "85752875c9f94a02a5acb069454fd72e": {
      "model_module": "@jupyter-widgets/controls",
      "model_module_version": "2.0.0",
      "model_name": "DescriptionStyleModel",
      "state": {
       "description_width": ""
      }
     },
     "867ff788e5f34ee69901cceb882f911f": {
      "model_module": "@jupyter-widgets/base",
      "model_module_version": "2.0.0",
      "model_name": "LayoutModel",
      "state": {}
     },
     "87e6968905d94c7aacdf65856bb31f5e": {
      "model_module": "@jupyter-widgets/controls",
      "model_module_version": "2.0.0",
      "model_name": "DescriptionStyleModel",
      "state": {
       "description_width": ""
      }
     },
     "889f27a4f9864fa4844d07e6f7cf8971": {
      "model_module": "@jupyter-widgets/controls",
      "model_module_version": "2.0.0",
      "model_name": "DescriptionStyleModel",
      "state": {
       "description_width": ""
      }
     },
     "8ba110ff1c434db18cbadc3432908a40": {
      "model_module": "@jupyter-widgets/controls",
      "model_module_version": "2.0.0",
      "model_name": "VBoxModel",
      "state": {
       "_dom_classes": [
        "widget-interact"
       ],
       "children": [
        "IPY_MODEL_2ef87d3006e14b7b9311152d9c37a74f"
       ],
       "layout": "IPY_MODEL_94d0300efe924e8ab529cd4ea5649258"
      }
     },
     "8d9bbdcde91545e9a8651ae7bbc85f21": {
      "model_module": "@jupyter-widgets/controls",
      "model_module_version": "2.0.0",
      "model_name": "DropdownModel",
      "state": {
       "_options_labels": [
        "convertible",
        "hardtop",
        "hatchback",
        "sedan",
        "wagon"
       ],
       "index": 0,
       "layout": "IPY_MODEL_4bd7614f41364fb6b6bee051bbd2abcd",
       "style": "IPY_MODEL_889f27a4f9864fa4844d07e6f7cf8971"
      }
     },
     "8eedbb95c84b44f4969e81deac9edcfd": {
      "model_module": "@jupyter-widgets/base",
      "model_module_version": "2.0.0",
      "model_name": "LayoutModel",
      "state": {}
     },
     "90a59ad3ae7048d1bf2b510bb06838e8": {
      "model_module": "@jupyter-widgets/base",
      "model_module_version": "2.0.0",
      "model_name": "LayoutModel",
      "state": {}
     },
     "92acffd37cc94e828e59d33c5fe863a0": {
      "model_module": "@jupyter-widgets/output",
      "model_module_version": "1.0.0",
      "model_name": "OutputModel",
      "state": {
       "layout": "IPY_MODEL_61f100df9a7649b39a3d5382a70c12ad",
       "outputs": [
        {
         "data": {
          "text/plain": "'Model predictions is: [-12684.58]'"
         },
         "metadata": {},
         "output_type": "display_data"
        }
       ]
      }
     },
     "94d0300efe924e8ab529cd4ea5649258": {
      "model_module": "@jupyter-widgets/base",
      "model_module_version": "2.0.0",
      "model_name": "LayoutModel",
      "state": {}
     },
     "94f6249a9d754a70aaf3e532cf2e9531": {
      "model_module": "@jupyter-widgets/controls",
      "model_module_version": "2.0.0",
      "model_name": "DescriptionStyleModel",
      "state": {
       "description_width": ""
      }
     },
     "9740466e16114215bb629d7992ace33f": {
      "model_module": "@jupyter-widgets/base",
      "model_module_version": "2.0.0",
      "model_name": "LayoutModel",
      "state": {}
     },
     "9ecd26e630184167ba4e7162502b4910": {
      "model_module": "@jupyter-widgets/controls",
      "model_module_version": "2.0.0",
      "model_name": "DropdownModel",
      "state": {
       "_options_labels": [
        "1bbl",
        "2bbl",
        "4bbl",
        "idi",
        "mfi",
        "mpfi",
        "spdi",
        "spfi"
       ],
       "description": "fuelsystem",
       "index": 0,
       "layout": "IPY_MODEL_754cfa805c6d43ac9a0db752eba2270e",
       "style": "IPY_MODEL_b219c31fb84944098211072905e212c8"
      }
     },
     "9ed32a1ec63d4e9b90786093e9f19121": {
      "model_module": "@jupyter-widgets/base",
      "model_module_version": "2.0.0",
      "model_name": "LayoutModel",
      "state": {}
     },
     "a1b6f337720c4f38a0558b40eb06ff71": {
      "model_module": "@jupyter-widgets/controls",
      "model_module_version": "2.0.0",
      "model_name": "DescriptionStyleModel",
      "state": {
       "description_width": ""
      }
     },
     "a2aea5d98ed44cddae5e7c15e174f15f": {
      "model_module": "@jupyter-widgets/controls",
      "model_module_version": "2.0.0",
      "model_name": "DescriptionStyleModel",
      "state": {
       "description_width": ""
      }
     },
     "a352f3909365430e9be281d264cc0c24": {
      "model_module": "@jupyter-widgets/base",
      "model_module_version": "2.0.0",
      "model_name": "LayoutModel",
      "state": {}
     },
     "a706a57b192141e4ad2eedd053577bfb": {
      "model_module": "@jupyter-widgets/controls",
      "model_module_version": "2.0.0",
      "model_name": "VBoxModel",
      "state": {
       "_dom_classes": [
        "widget-interact"
       ],
       "children": [
        "IPY_MODEL_b4e94fe186d14de2b0e0c52eed60674a",
        "IPY_MODEL_4f986ebb8cb340bdbbcd90ff288713b7",
        "IPY_MODEL_74f87a7fcefc468391de9b413877088c",
        "IPY_MODEL_1b07378c65374dd0bed8611092abcf69",
        "IPY_MODEL_be3303c2b3e24549926f8dc8ca69a207",
        "IPY_MODEL_167dc515e3cb484ca296a3d3a3cc439f",
        "IPY_MODEL_4fc7b68bb34b4367bcc130ba013f92ce",
        "IPY_MODEL_ba3d8ff40b53454cbae9c8ab30712383"
       ],
       "layout": "IPY_MODEL_4d165e003ced442087b4af017379fc1f"
      }
     },
     "a741210163464d549bdb43e2b312d503": {
      "model_module": "@jupyter-widgets/controls",
      "model_module_version": "2.0.0",
      "model_name": "SliderStyleModel",
      "state": {
       "description_width": ""
      }
     },
     "a830547f042c4d7692bec7d4e3919737": {
      "model_module": "@jupyter-widgets/base",
      "model_module_version": "2.0.0",
      "model_name": "LayoutModel",
      "state": {}
     },
     "acc1c323d6ad45dd9ccfadcbbdaf8a22": {
      "model_module": "@jupyter-widgets/controls",
      "model_module_version": "2.0.0",
      "model_name": "DescriptionStyleModel",
      "state": {
       "description_width": ""
      }
     },
     "ae1a378823f64283bc916f140b8b8022": {
      "model_module": "@jupyter-widgets/controls",
      "model_module_version": "2.0.0",
      "model_name": "DropdownModel",
      "state": {
       "_options_labels": [
        "convertible",
        "hardtop",
        "hatchback",
        "sedan",
        "wagon"
       ],
       "description": "carbody",
       "index": 0,
       "layout": "IPY_MODEL_f1c15807f62547e68b908b8ae7e7ab5d",
       "style": "IPY_MODEL_198774c1fe16418b930714958d5e1ed7"
      }
     },
     "ae2d9166b5504d279d853af12d2eb488": {
      "model_module": "@jupyter-widgets/controls",
      "model_module_version": "2.0.0",
      "model_name": "SliderStyleModel",
      "state": {
       "description_width": ""
      }
     },
     "aed1a9580661411c978b917cf3cc6a62": {
      "model_module": "@jupyter-widgets/base",
      "model_module_version": "2.0.0",
      "model_name": "LayoutModel",
      "state": {}
     },
     "b039b503ce184b94a24ef1af63ef9cc8": {
      "model_module": "@jupyter-widgets/controls",
      "model_module_version": "2.0.0",
      "model_name": "VBoxModel",
      "state": {
       "_dom_classes": [
        "widget-interact"
       ],
       "children": [
        "IPY_MODEL_dc0148a68e1d47bd9e2dc1d599f43bb2",
        "IPY_MODEL_7928411802dd4a01a1c0ab90299dcd3d",
        "IPY_MODEL_c42bf1e21d2f4cb0a815e64d5da7d465",
        "IPY_MODEL_b4774ceb74c24c7eaa1046df94ed265c",
        "IPY_MODEL_2d373d51f0204f85a8046e493cc9a200",
        "IPY_MODEL_3d14dd7f8eca4d68af3d83dc6967c09b",
        "IPY_MODEL_be5e4c11582b47f196a469344043813f",
        "IPY_MODEL_695e3ed9c2ff46a7af19afdcbbb444ae"
       ],
       "layout": "IPY_MODEL_418dff133a84415386e26dd1477d1de6"
      }
     },
     "b219c31fb84944098211072905e212c8": {
      "model_module": "@jupyter-widgets/controls",
      "model_module_version": "2.0.0",
      "model_name": "DescriptionStyleModel",
      "state": {
       "description_width": ""
      }
     },
     "b4774ceb74c24c7eaa1046df94ed265c": {
      "model_module": "@jupyter-widgets/controls",
      "model_module_version": "2.0.0",
      "model_name": "DropdownModel",
      "state": {
       "_options_labels": [
        "dohc",
        "l",
        "ohc",
        "ohcf",
        "ohcv",
        "rotor"
       ],
       "description": "enginetype",
       "index": 0,
       "layout": "IPY_MODEL_a830547f042c4d7692bec7d4e3919737",
       "style": "IPY_MODEL_1f6da807059d4b719e41df2dc68b1db9"
      }
     },
     "b4e94fe186d14de2b0e0c52eed60674a": {
      "model_module": "@jupyter-widgets/controls",
      "model_module_version": "2.0.0",
      "model_name": "DropdownModel",
      "state": {
       "_options_labels": [
        "convertible",
        "hardtop",
        "hatchback",
        "sedan",
        "wagon"
       ],
       "description": "carbody",
       "index": 3,
       "layout": "IPY_MODEL_2e09b3fea96b4afd816b0862629b365b",
       "style": "IPY_MODEL_26b980e90a8b416a9447e67507c31acd"
      }
     },
     "b58cc7984622420ba7fa50933f213fc4": {
      "model_module": "@jupyter-widgets/base",
      "model_module_version": "2.0.0",
      "model_name": "LayoutModel",
      "state": {}
     },
     "b58d841d45a448d5be76c066889e82c1": {
      "model_module": "@jupyter-widgets/base",
      "model_module_version": "2.0.0",
      "model_name": "LayoutModel",
      "state": {}
     },
     "b6e1d92aba1749c291b931f7113e0772": {
      "model_module": "@jupyter-widgets/controls",
      "model_module_version": "2.0.0",
      "model_name": "DropdownModel",
      "state": {
       "_options_labels": [
        "five",
        "four",
        "six",
        "two"
       ],
       "description": "cylindernumber",
       "index": 0,
       "layout": "IPY_MODEL_aed1a9580661411c978b917cf3cc6a62",
       "style": "IPY_MODEL_87e6968905d94c7aacdf65856bb31f5e"
      }
     },
     "b7268fe9a2794fb9a13ad3a1176c5f2d": {
      "model_module": "@jupyter-widgets/controls",
      "model_module_version": "2.0.0",
      "model_name": "SliderStyleModel",
      "state": {
       "description_width": ""
      }
     },
     "b8c2cae215b04502aab24e4a7da80527": {
      "model_module": "@jupyter-widgets/controls",
      "model_module_version": "2.0.0",
      "model_name": "DescriptionStyleModel",
      "state": {
       "description_width": ""
      }
     },
     "b915689867374a46bfd1745828e2fef6": {
      "model_module": "@jupyter-widgets/controls",
      "model_module_version": "2.0.0",
      "model_name": "VBoxModel",
      "state": {
       "_dom_classes": [
        "widget-interact"
       ],
       "children": [
        "IPY_MODEL_ba6716065fea4ad29b6a4dae48857e3b",
        "IPY_MODEL_5bd9d26002c94e8c8d19b6980af024e2",
        "IPY_MODEL_d359c497b4714d08a4026bde2867c57f",
        "IPY_MODEL_0f19e20b1a3c4955bb8abc0f119737ab",
        "IPY_MODEL_b6e1d92aba1749c291b931f7113e0772",
        "IPY_MODEL_9ecd26e630184167ba4e7162502b4910",
        "IPY_MODEL_22a36189e4554e15a7a62404861a0461",
        "IPY_MODEL_4eb0f393f9a04141a46c29a482bccbde"
       ],
       "layout": "IPY_MODEL_e9384a0110dc415ba6bf49136815cc76"
      }
     },
     "ba3d8ff40b53454cbae9c8ab30712383": {
      "model_module": "@jupyter-widgets/output",
      "model_module_version": "1.0.0",
      "model_name": "OutputModel",
      "state": {
       "layout": "IPY_MODEL_221257566d5c4653b4ad66e1bc442efd",
       "outputs": [
        {
         "data": {
          "text/plain": "'Model predictions is: [20481.09]'"
         },
         "metadata": {},
         "output_type": "display_data"
        }
       ]
      }
     },
     "ba6716065fea4ad29b6a4dae48857e3b": {
      "model_module": "@jupyter-widgets/controls",
      "model_module_version": "2.0.0",
      "model_name": "DropdownModel",
      "state": {
       "_options_labels": [
        "convertible",
        "hardtop",
        "hatchback",
        "sedan",
        "wagon"
       ],
       "description": "carbody",
       "index": 0,
       "layout": "IPY_MODEL_cb88aa55fabb41eb9adaf5983bf8a31a",
       "style": "IPY_MODEL_fc2739e479d54cfcaf313612e6265438"
      }
     },
     "bc833454575f434788fb80c43c43bc68": {
      "model_module": "@jupyter-widgets/output",
      "model_module_version": "1.0.0",
      "model_name": "OutputModel",
      "state": {
       "layout": "IPY_MODEL_2268a171903f4cf798be443ebe486705",
       "outputs": [
        {
         "data": {
          "text/plain": "'Model predictions is: [-12684.58]'"
         },
         "metadata": {},
         "output_type": "display_data"
        }
       ]
      }
     },
     "be3303c2b3e24549926f8dc8ca69a207": {
      "model_module": "@jupyter-widgets/controls",
      "model_module_version": "2.0.0",
      "model_name": "DropdownModel",
      "state": {
       "_options_labels": [
        "five",
        "four",
        "six",
        "two"
       ],
       "description": "cylindernumber",
       "index": 0,
       "layout": "IPY_MODEL_823d0f16d5ee4dcf87881e4ab04e14a2",
       "style": "IPY_MODEL_0054532590ca4eeeaad4cfe1ce12868c"
      }
     },
     "be5e4c11582b47f196a469344043813f": {
      "model_module": "@jupyter-widgets/controls",
      "model_module_version": "2.0.0",
      "model_name": "IntSliderModel",
      "state": {
       "behavior": "drag-tap",
       "description": "highwaympg",
       "layout": "IPY_MODEL_491ab3b57ad64af58b66586b58ee4c6e",
       "max": 3485,
       "min": 1819,
       "style": "IPY_MODEL_186d0e2366284368831e6aaa0c7f275b",
       "value": 2410
      }
     },
     "c42bf1e21d2f4cb0a815e64d5da7d465": {
      "model_module": "@jupyter-widgets/controls",
      "model_module_version": "2.0.0",
      "model_name": "IntSliderModel",
      "state": {
       "behavior": "drag-tap",
       "description": "curbweight",
       "layout": "IPY_MODEL_0349e052c69d48eeafab96f9bd7d8cbf",
       "max": 3485,
       "min": 1819,
       "style": "IPY_MODEL_b7268fe9a2794fb9a13ad3a1176c5f2d",
       "value": 2612
      }
     },
     "c4597beae1604cf5b8d17e70c16b67a3": {
      "model_module": "@jupyter-widgets/base",
      "model_module_version": "2.0.0",
      "model_name": "LayoutModel",
      "state": {}
     },
     "c4c51a6fb7cc47ecae069f87917980d7": {
      "model_module": "@jupyter-widgets/base",
      "model_module_version": "2.0.0",
      "model_name": "LayoutModel",
      "state": {}
     },
     "c5fa106560ed49fe871881de874d38b9": {
      "model_module": "@jupyter-widgets/controls",
      "model_module_version": "2.0.0",
      "model_name": "DropdownModel",
      "state": {
       "_options_labels": [
        "convertible",
        "hardtop",
        "hatchback",
        "sedan",
        "wagon"
       ],
       "description": "carbody",
       "index": 1,
       "layout": "IPY_MODEL_2ada6d430df74445bd2041908ad105a6",
       "style": "IPY_MODEL_b8c2cae215b04502aab24e4a7da80527"
      }
     },
     "c840fcffc6454e65ab57f34d840f9759": {
      "model_module": "@jupyter-widgets/controls",
      "model_module_version": "2.0.0",
      "model_name": "DescriptionStyleModel",
      "state": {
       "description_width": ""
      }
     },
     "cb88aa55fabb41eb9adaf5983bf8a31a": {
      "model_module": "@jupyter-widgets/base",
      "model_module_version": "2.0.0",
      "model_name": "LayoutModel",
      "state": {}
     },
     "cc157eac76994f11a2ab91ef01a7ebf5": {
      "model_module": "@jupyter-widgets/base",
      "model_module_version": "2.0.0",
      "model_name": "LayoutModel",
      "state": {}
     },
     "cfc2eb186aa946b3ad3f946725b93939": {
      "model_module": "@jupyter-widgets/base",
      "model_module_version": "2.0.0",
      "model_name": "LayoutModel",
      "state": {}
     },
     "d1d0428ce3ef4d40b39f376b15244477": {
      "model_module": "@jupyter-widgets/controls",
      "model_module_version": "2.0.0",
      "model_name": "DropdownModel",
      "state": {
       "_options_labels": [
        "1bbl",
        "2bbl",
        "4bbl",
        "idi",
        "mfi",
        "mpfi",
        "spdi",
        "spfi"
       ],
       "description": "fuelsystem",
       "index": 0,
       "layout": "IPY_MODEL_54395472c27840a595952d453fbcdd3c",
       "style": "IPY_MODEL_6ea67d10637442079df037db7af68f04"
      }
     },
     "d1db4b989b894b7ca57f69d6afc5408b": {
      "model_module": "@jupyter-widgets/controls",
      "model_module_version": "2.0.0",
      "model_name": "DescriptionStyleModel",
      "state": {
       "description_width": ""
      }
     },
     "d28c3478047e4a4ebe60460433200833": {
      "model_module": "@jupyter-widgets/base",
      "model_module_version": "2.0.0",
      "model_name": "LayoutModel",
      "state": {}
     },
     "d359c497b4714d08a4026bde2867c57f": {
      "model_module": "@jupyter-widgets/controls",
      "model_module_version": "2.0.0",
      "model_name": "IntSliderModel",
      "state": {
       "behavior": "drag-tap",
       "description": "curbweight",
       "layout": "IPY_MODEL_ff8232d055894e6b8acb8ad93dec977b",
       "max": 3485,
       "min": 1819,
       "style": "IPY_MODEL_da9350f6a1c4442b83ec93ff17eacec2",
       "value": 2476
      }
     },
     "d35e8830a1e34a249937be0273a43c3f": {
      "model_module": "@jupyter-widgets/base",
      "model_module_version": "2.0.0",
      "model_name": "LayoutModel",
      "state": {}
     },
     "d6bbec610dd249609f928a73ed1dc8e8": {
      "model_module": "@jupyter-widgets/controls",
      "model_module_version": "2.0.0",
      "model_name": "IntSliderModel",
      "state": {
       "behavior": "drag-tap",
       "description": "curbweight",
       "layout": "IPY_MODEL_90a59ad3ae7048d1bf2b510bb06838e8",
       "max": 3485,
       "min": 1819,
       "style": "IPY_MODEL_2d9c96bdda264dbb97c13d201fc36a97",
       "value": 2476
      }
     },
     "da18410ef9fc48ddb3e1f458991dda51": {
      "model_module": "@jupyter-widgets/controls",
      "model_module_version": "2.0.0",
      "model_name": "VBoxModel",
      "state": {
       "_dom_classes": [
        "widget-interact"
       ],
       "children": [
        "IPY_MODEL_ae1a378823f64283bc916f140b8b8022",
        "IPY_MODEL_7927e3cd53ea427c9c031f7bf91c1a12",
        "IPY_MODEL_d6bbec610dd249609f928a73ed1dc8e8",
        "IPY_MODEL_190c7971a70c4120bd3c69d1b562a995",
        "IPY_MODEL_1d27c52d929e48e7b325110abfdc9c23",
        "IPY_MODEL_1632ba6e7c504d1bb4d27e32cebf2310",
        "IPY_MODEL_e2ad09908bef4a1a87769fd458826a7d",
        "IPY_MODEL_bc833454575f434788fb80c43c43bc68"
       ],
       "layout": "IPY_MODEL_0ac7c00260664ac99e245548d5ee64f9"
      }
     },
     "da1a1d2a9e5f433f85f6bde559ab4588": {
      "model_module": "@jupyter-widgets/controls",
      "model_module_version": "2.0.0",
      "model_name": "SliderStyleModel",
      "state": {
       "description_width": ""
      }
     },
     "da9350f6a1c4442b83ec93ff17eacec2": {
      "model_module": "@jupyter-widgets/controls",
      "model_module_version": "2.0.0",
      "model_name": "SliderStyleModel",
      "state": {
       "description_width": ""
      }
     },
     "dc0148a68e1d47bd9e2dc1d599f43bb2": {
      "model_module": "@jupyter-widgets/controls",
      "model_module_version": "2.0.0",
      "model_name": "DropdownModel",
      "state": {
       "_options_labels": [
        "convertible",
        "hardtop",
        "hatchback",
        "sedan",
        "wagon"
       ],
       "description": "carbody",
       "index": 4,
       "layout": "IPY_MODEL_7ce760810f5047ff9567182b2b782249",
       "style": "IPY_MODEL_09b3d2fc1cb541b4b14666f9c2f165d0"
      }
     },
     "de8e430f61324ed39188ab9251b93e52": {
      "model_module": "@jupyter-widgets/controls",
      "model_module_version": "2.0.0",
      "model_name": "DescriptionStyleModel",
      "state": {
       "description_width": ""
      }
     },
     "e2ad09908bef4a1a87769fd458826a7d": {
      "model_module": "@jupyter-widgets/controls",
      "model_module_version": "2.0.0",
      "model_name": "IntSliderModel",
      "state": {
       "behavior": "drag-tap",
       "description": "highwaympg",
       "layout": "IPY_MODEL_cfc2eb186aa946b3ad3f946725b93939",
       "max": 3485,
       "min": 1819,
       "style": "IPY_MODEL_302fd5dc9f8644859a82f6819e7224b6",
       "value": 2476
      }
     },
     "e33ccc5f4fe8467481e8d73f22717c26": {
      "model_module": "@jupyter-widgets/controls",
      "model_module_version": "2.0.0",
      "model_name": "DescriptionStyleModel",
      "state": {
       "description_width": ""
      }
     },
     "e3ef4b9a8cb04e5b9de063edc7c6c92c": {
      "model_module": "@jupyter-widgets/controls",
      "model_module_version": "2.0.0",
      "model_name": "DescriptionStyleModel",
      "state": {
       "description_width": ""
      }
     },
     "e8fe09b3521c470da6a40b4a91073bac": {
      "model_module": "@jupyter-widgets/base",
      "model_module_version": "2.0.0",
      "model_name": "LayoutModel",
      "state": {}
     },
     "e9384a0110dc415ba6bf49136815cc76": {
      "model_module": "@jupyter-widgets/base",
      "model_module_version": "2.0.0",
      "model_name": "LayoutModel",
      "state": {}
     },
     "ed09bc5d23e04804897674aa6399eafd": {
      "model_module": "@jupyter-widgets/base",
      "model_module_version": "2.0.0",
      "model_name": "LayoutModel",
      "state": {}
     },
     "f081f89d7f3349d5b0e98e300ab4e747": {
      "model_module": "@jupyter-widgets/controls",
      "model_module_version": "2.0.0",
      "model_name": "IntSliderModel",
      "state": {
       "behavior": "drag-tap",
       "description": "curbweight",
       "layout": "IPY_MODEL_867ff788e5f34ee69901cceb882f911f",
       "max": 3485,
       "min": 1819,
       "style": "IPY_MODEL_7fafc0769845453f82e53bd6c37706e8",
       "value": 2543
      }
     },
     "f186bf963fce477ab925a5c526ed7e49": {
      "model_module": "@jupyter-widgets/controls",
      "model_module_version": "2.0.0",
      "model_name": "DropdownModel",
      "state": {
       "_options_labels": [
        "convertible",
        "hardtop",
        "hatchback",
        "sedan",
        "wagon"
       ],
       "index": 0,
       "layout": "IPY_MODEL_2c6c8c12e233459e982c13b12281ade5",
       "style": "IPY_MODEL_1928f9822c2b4c5eb641223cdd97ce1c"
      }
     },
     "f1c15807f62547e68b908b8ae7e7ab5d": {
      "model_module": "@jupyter-widgets/base",
      "model_module_version": "2.0.0",
      "model_name": "LayoutModel",
      "state": {}
     },
     "f2aad8773994472ba637b5aeb950ed50": {
      "model_module": "@jupyter-widgets/controls",
      "model_module_version": "2.0.0",
      "model_name": "DescriptionStyleModel",
      "state": {
       "description_width": ""
      }
     },
     "f2ce9a2be1ae4f9e9946f13c297b7a74": {
      "model_module": "@jupyter-widgets/controls",
      "model_module_version": "2.0.0",
      "model_name": "SliderStyleModel",
      "state": {
       "description_width": ""
      }
     },
     "f3fab042a64d45eda4caac609bf0e475": {
      "model_module": "@jupyter-widgets/controls",
      "model_module_version": "2.0.0",
      "model_name": "DropdownModel",
      "state": {
       "_options_labels": [
        "4wd",
        "fwd",
        "rwd"
       ],
       "description": "drivewheel",
       "index": 0,
       "layout": "IPY_MODEL_213d283e9dad4fbe916a72a99353c741",
       "style": "IPY_MODEL_745c6bed5294411294eff1fea4ecdd46"
      }
     },
     "f457c03c0ff24e8fbaae79a1a0fb885c": {
      "model_module": "@jupyter-widgets/base",
      "model_module_version": "2.0.0",
      "model_name": "LayoutModel",
      "state": {}
     },
     "f45e88bd054d4ee5b228b92b6edd1aa4": {
      "model_module": "@jupyter-widgets/controls",
      "model_module_version": "2.0.0",
      "model_name": "IntSliderModel",
      "state": {
       "behavior": "drag-tap",
       "description": "highwaympg",
       "layout": "IPY_MODEL_184a16bd5f6b4eff938744fc3f8b4860",
       "max": 3485,
       "min": 1819,
       "style": "IPY_MODEL_732529522f644ac1a0abaf99874ebcb9",
       "value": 1819
      }
     },
     "f6a65460eec94f4baa12e19daf951358": {
      "model_module": "@jupyter-widgets/base",
      "model_module_version": "2.0.0",
      "model_name": "LayoutModel",
      "state": {}
     },
     "f8c7c54fac4e41baabb16f07625cd74b": {
      "model_module": "@jupyter-widgets/controls",
      "model_module_version": "2.0.0",
      "model_name": "DescriptionStyleModel",
      "state": {
       "description_width": ""
      }
     },
     "fa01504df23347d095f9ae8e67b44945": {
      "model_module": "@jupyter-widgets/base",
      "model_module_version": "2.0.0",
      "model_name": "LayoutModel",
      "state": {}
     },
     "faf14acb6ea845afbecd4c76d9606fa2": {
      "model_module": "@jupyter-widgets/base",
      "model_module_version": "2.0.0",
      "model_name": "LayoutModel",
      "state": {}
     },
     "fc06bea33ae14ef287b8155e612c576d": {
      "model_module": "@jupyter-widgets/base",
      "model_module_version": "2.0.0",
      "model_name": "LayoutModel",
      "state": {}
     },
     "fc2739e479d54cfcaf313612e6265438": {
      "model_module": "@jupyter-widgets/controls",
      "model_module_version": "2.0.0",
      "model_name": "DescriptionStyleModel",
      "state": {
       "description_width": ""
      }
     },
     "ff8232d055894e6b8acb8ad93dec977b": {
      "model_module": "@jupyter-widgets/base",
      "model_module_version": "2.0.0",
      "model_name": "LayoutModel",
      "state": {}
     }
    },
    "version_major": 2,
    "version_minor": 0
   }
  }
 },
 "nbformat": 4,
 "nbformat_minor": 5
}
